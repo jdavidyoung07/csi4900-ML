{
 "cells": [
  {
   "cell_type": "markdown",
   "metadata": {},
   "source": [
    "## Imports"
   ]
  },
  {
   "cell_type": "code",
   "execution_count": 90,
   "metadata": {},
   "outputs": [],
   "source": [
    "# Pandas, numpy, matplotlib and seaborn\n",
    "import pandas as pd\n",
    "import numpy as np\n",
    "import matplotlib.pyplot as plt\n",
    "import seaborn as sns\n",
    "\n",
    "# RiotWatcher\n",
    "from riotwatcher import LolWatcher, ApiError\n",
    "\n",
    "# OS tools\n",
    "import os\n",
    "import shutil\n",
    "import json\n",
    "import sys\n",
    "\n",
    "# Custom scripts\n",
    "from extract_players_performance import extract_players_performance\n",
    "from remove_perks import remove_perks\n",
    "from cleaner import replace_champ_names_with_tags\n",
    "from sklearn.preprocessing import OneHotEncoder\n",
    "from sklearn.compose import ColumnTransformer"
   ]
  },
  {
   "cell_type": "markdown",
   "metadata": {},
   "source": [
    "## Global Variables"
   ]
  },
  {
   "cell_type": "code",
   "execution_count": 3,
   "metadata": {},
   "outputs": [],
   "source": [
    "# Global Variables\n",
    "\n",
    "# Key to gain access to Riot API's data\n",
    "api_key = 'RGAPI-458748cb-0829-47d6-a3dc-517b6f898a38'\n",
    "\n",
    "# Instance of the wrapper API 'RiotWatcher'\n",
    "watcher = LolWatcher(api_key)\n",
    "\n",
    "# Region of the player\n",
    "region = 'na1'\n",
    "\n",
    "# Name of the player's account\n",
    "account_name = 'Jedı07'\n",
    "\n",
    "# PUUID linked to the player's account\n",
    "puuid = None"
   ]
  },
  {
   "cell_type": "markdown",
   "metadata": {},
   "source": [
    "## Get an Account"
   ]
  },
  {
   "cell_type": "code",
   "execution_count": 6,
   "metadata": {},
   "outputs": [],
   "source": [
    "# Get account\n",
    "account = watcher.summoner.by_name(region, account_name)\n",
    "\n",
    "# Save puuid\n",
    "puuid = account['puuid']"
   ]
  },
  {
   "cell_type": "markdown",
   "metadata": {},
   "source": [
    "## Get Match History"
   ]
  },
  {
   "cell_type": "code",
   "execution_count": 7,
   "metadata": {},
   "outputs": [
    {
     "name": "stdout",
     "output_type": "stream",
     "text": [
      "['NA1_4276627830', 'NA1_4276630734', 'NA1_4271399837', 'NA1_4271341235', 'NA1_4271285171', 'NA1_4200069215', 'NA1_4200057973', 'NA1_4200023211', 'NA1_4195249549', 'NA1_4195296421', 'NA1_4192896758', 'NA1_4192828915', 'NA1_4192861697', 'NA1_4192737361', 'NA1_4191628052', 'NA1_4190571787', 'NA1_4190503402', 'NA1_4190491622', 'NA1_4183313170', 'NA1_4183208690', 'NA1_4183220508', 'NA1_4181962985', 'NA1_4181858654', 'NA1_4178015004', 'NA1_4177827642', 'NA1_4176610684', 'NA1_4176591844', 'NA1_4176486747', 'NA1_4175591432', 'NA1_4175571307', 'NA1_4174230478', 'NA1_4174137022', 'NA1_4172646223', 'NA1_4172587470', 'NA1_4171197980', 'NA1_4171203080', 'NA1_4169900567', 'NA1_4169821877', 'NA1_4169772592', 'NA1_4102698720', 'NA1_4102683102', 'NA1_4102635137', 'NA1_4100010194', 'NA1_4099965698', 'NA1_4099991612', 'NA1_4099917364', 'NA1_4099933969', 'NA1_4091819791', 'NA1_4091752285', 'NA1_4090225331', 'NA1_4090232653', 'NA1_4048993419', 'NA1_4048908141', 'NA1_4048932745', 'NA1_4048887179', 'NA1_4048834064', 'NA1_4046823416', 'NA1_4046759373', 'NA1_4046736031', 'NA1_4046762862', 'NA1_4046760092', 'NA1_4046278976', 'NA1_4046254559', 'NA1_4046219526', 'NA1_4046185977', 'NA1_4046199894', 'NA1_4045404308', 'NA1_4045378025', 'NA1_4045324139', 'NA1_4044372209', 'NA1_4044327686', 'NA1_4043511305', 'NA1_4043492856', 'NA1_4043409603', 'NA1_4043394477', 'NA1_4042821122', 'NA1_4042786150', 'NA1_4042729404', 'NA1_4042704237', 'NA1_4042619250', 'NA1_4042652430', 'NA1_4042548902', 'NA1_4041518843', 'NA1_4041474160', 'NA1_4040732931', 'NA1_4040675906', 'NA1_4036628676', 'NA1_4036642224', 'NA1_4036513945', 'NA1_4035778189', 'NA1_4035782528', 'NA1_4035726944', 'NA1_4035682704', 'NA1_4035638217', 'NA1_4034707995', 'NA1_4034674255', 'NA1_4034559422', 'NA1_4034566213', 'NA1_4034399637', 'NA1_4034434056']\n"
     ]
    }
   ],
   "source": [
    "# Get match history data\n",
    "# Note: max count=100\n",
    "match_history = watcher.match.matchlist_by_puuid(region, puuid, queue=420, count=100)\n",
    "\n",
    "print(match_history)"
   ]
  },
  {
   "cell_type": "markdown",
   "metadata": {},
   "source": [
    "## Get Data of a Specific Match"
   ]
  },
  {
   "cell_type": "code",
   "execution_count": 12,
   "metadata": {},
   "outputs": [],
   "source": [
    "# ID of the match as per the previous cell's match ID list\n",
    "match_id = match_history[0]\n",
    "\n",
    "# Get the match's data\n",
    "match_data = watcher.match.by_id(region, match_id)"
   ]
  },
  {
   "cell_type": "markdown",
   "metadata": {},
   "source": [
    "## Get Timeline of the Match"
   ]
  },
  {
   "cell_type": "code",
   "execution_count": 13,
   "metadata": {},
   "outputs": [],
   "source": [
    "# Get timeline of the match specific in the previous cell\n",
    "match_timeline = watcher.match.timeline_by_match(region, match_id)"
   ]
  },
  {
   "cell_type": "markdown",
   "metadata": {},
   "source": [
    "## Create Directories to Store Match History"
   ]
  },
  {
   "cell_type": "code",
   "execution_count": 14,
   "metadata": {},
   "outputs": [],
   "source": [
    "# Directory of this player's match data\n",
    "general_dir = '../data/' + account_name + '_match_history'\n",
    "\n",
    "# Create general directory\n",
    "if os.path.exists(general_dir):\n",
    "    shutil.rmtree(general_dir)\n",
    "os.mkdir(general_dir)\n",
    "\n",
    "# Save match history as json\n",
    "match_history_file_path = general_dir + '/' + account_name + '_match_history.json'\n",
    "match_history_json_string = json.dumps(match_history, indent=2)\n",
    "match_history_json_file = open(match_history_file_path, 'w')\n",
    "match_history_json_file.write(match_history_json_string)\n",
    "match_history_json_file.close()"
   ]
  },
  {
   "cell_type": "markdown",
   "metadata": {},
   "source": [
    "## Create Directories and Store Individual Match Data"
   ]
  },
  {
   "cell_type": "code",
   "execution_count": 15,
   "metadata": {},
   "outputs": [],
   "source": [
    "# Directory of this player's match data\n",
    "matches_dir = general_dir + '/matches'\n",
    "\n",
    "# Create matches directory\n",
    "if os.path.exists(matches_dir):\n",
    "    shutil.rmtree(matches_dir)\n",
    "os.mkdir(matches_dir)\n",
    "\n",
    "# Create directories for every match in the match history\n",
    "directory_name = 'match_'\n",
    "\n",
    "for match in match_history:\n",
    "\n",
    "    # Create directory for specific match\n",
    "    new_directory_name = directory_name + match\n",
    "    \n",
    "    match_dir = matches_dir + '/' + new_directory_name\n",
    "\n",
    "    if os.path.exists(match_dir):\n",
    "        shutil.rmtree(match_dir)\n",
    "    os.mkdir(match_dir)\n",
    "\n",
    "    # Get match data\n",
    "    match_data = watcher.match.by_id(region, match)\n",
    "    match_file_path = match_dir + '/' + match + '.json'\n",
    "\n",
    "    # Save match data\n",
    "    match_data_json_string = json.dumps(match_data, indent=2)\n",
    "    match_data_json_file = open(match_file_path, 'w')\n",
    "    match_data_json_file.write(match_data_json_string)\n",
    "    match_data_json_file.close()  "
   ]
  },
  {
   "cell_type": "markdown",
   "metadata": {},
   "source": [
    "## Execute Script to Separate Individual Player Data"
   ]
  },
  {
   "cell_type": "code",
   "execution_count": 16,
   "metadata": {},
   "outputs": [],
   "source": [
    "extract_players_performance(account_name)"
   ]
  },
  {
   "cell_type": "markdown",
   "metadata": {},
   "source": [
    "## Execute Script to Remove Perks (Runes) from Player Data"
   ]
  },
  {
   "cell_type": "code",
   "execution_count": 17,
   "metadata": {},
   "outputs": [],
   "source": [
    "remove_perks(account_name)"
   ]
  },
  {
   "cell_type": "markdown",
   "metadata": {},
   "source": [
    "## Get More Match Data from Players Encountered"
   ]
  },
  {
   "cell_type": "code",
   "execution_count": 20,
   "metadata": {},
   "outputs": [
    {
     "name": "stdout",
     "output_type": "stream",
     "text": [
      "797\n"
     ]
    }
   ],
   "source": [
    "# Start by getting the puuid of every unique player encountered\n",
    "\n",
    "match_dir = '../data/Jedı07_match_history/matches/match_'\n",
    "\n",
    "match_participants = []\n",
    "\n",
    "for match in match_history:\n",
    "    match_path = match_dir + match + '/participants'\n",
    "\n",
    "    with os.scandir(match_path) as iter:\n",
    "        for directory in iter:\n",
    "            if not (directory.name.startswith('.') and directory.is_file()):\n",
    "                if directory.name not in match_participants:\n",
    "                    match_participants.append(directory.name)\n",
    "\n",
    "for index in range(len(match_participants)-1):\n",
    "    match_participants[index] = match_participants[index][7:]\n",
    "\n",
    "print(len(match_participants))"
   ]
  },
  {
   "cell_type": "code",
   "execution_count": 27,
   "metadata": {},
   "outputs": [
    {
     "name": "stdout",
     "output_type": "stream",
     "text": [
      "['Plus3Hundo', 'Homiechillax', 'Fencepuppet', 'Cermit365', 'blikblak', 'Will BB', 'àntx', 'Diu Da Will BB', 'Domz01', 'Jedı07', 'SugarHighs', 'Tuna Davis', 'Mattyboyywonder', 'chimuru', '24oz Cold Brew', 'Jessefcd', 'SunxRise', 'YTyukii', 'Nov4yn', 'jetstream jordan', 'Inconvenience', 'Unknown Father', 'Znulodsa', 'Rydur01', 'Mega Adhesive', 'hehexd tyler1', 'chubzhuh', 'ForeverDark2012', 'Issvc', 'Bryanxq3', 'cantivskeitaro', 'Hardsruck', 'hiwi', 'Ozymandias774', 'PostViral', 'The Cosby Suite', 'Zatagon', 'cutiejam', 'PrettyCuteDaddy', 'TheLordEsus', 'zhlhahaha', 'DrDoughnutDude', 'Natebgreat', 'maorT', 'Phangphxn', 'Šampp', 'Jiimoto', 'o Wayfinder o', 'Daddy Skii', 'Skeptical Otter', 'drkeagle98', 'Thaifi', 'Outcome', 'Kraken Mutes ALL', 'Mr Chiwi', 'LCS Miracle Run', 'Harpooneerx', 'Wabby Babbo', 'FrostyCake', 'DooDoo Deluxe', 'ZhouXingwen', 'ShinigamiGhoul', 'BumsAreCool', 'THEGTCGU111', 'Bobgrey', 'SlenderLS', 'iFlapy', 'ShadoKida', 'VenomHss010', 'titom9527', 'KmoStaz', 'Xehanort565', 'AbhiOne', 'SenpouRendan', 'Cyrgg', 'SolidOcelot', 'SKT T1 Solo', 'Fr0mHellWithL0ve', 'Dawdles', 'No Parlay', 'J821 Skairipa', 'FM MOOD', 'ShadowedSpirit', 'Mora Azul', 'Yuevboo', '2Scared2Fap ', 'DunqMetro', 'TimothyAlex', 'ShadowedPengu', 'HealthCareHer0', 'Hypokriite', 'El Compi Angel', 'Ivorik', 'Jauruss', 'kayleeen', 'AMERICAN AEGlS', 'STARSCREAIVI', 'K1000', 'We Trippy Mane', 'hEllShAcKLEs', 'BLITZ 1 TRICK 01', 'BRIAN DEad CHAMP', 'elReventón', 'Snowcry7', 'jamo18', 'PRîMĘ', 'LividPeanut', 'twixenstein', 'Swash', 'Liiiisa', 'DrGooglepants', 'Pentameme', 'MangoMercy', 'Qiao Bi Luo ', 'yumy player', 'Pulpy Milk', 'PoliteUsableMutt', 'Mr Obtuse', 'dianayud', 'Ferosit', 'SphinterTickler', 'Bluejrs', 'Castielet', 'Dr Cism', 'Lilriblet', 'riven aficionado', 'Micheal Wave ', 'Artex196', 'Boots n Biscuits', 'GoyMeetsWorld', 'it Ohh', 'Chel0oo', '0h Sh', 'lorddarthroro', 'HMcKringleberry', 'SethiousBlack', 'ShinoDdragon', 'YgVriel', 'SammyTae', 'Jokaeryje', 'BIunt With Trudo', 'SloshyFungGuy', 'RayyyLmao', 'TheWarrior2728', 'GetGoldGet500', 'UrWeakInThePants', 'deader than dirt', 'sprayn', 'Orrelios', 'LaughingFang', 'Randumbweirdo', 'MacTSS2212', 'Labugzorg', 'scrapdizzle', 'Sinister BIade', 'Ooranges', 'Peong', 'Baajabbuss', 'MyAltToLearnShen', 'PentaKuehl', 'Axizon', 'failúre', 'Tunning Crow', 'Lem0nades', 'Tilt2g', 'Headkraken', 'ToxicJuiceBox', 'Pomegranate Milk', 'Awosome1', 'ICreatedLove', 'Kai Jun Seong', '4th Shot Enjoyer', 'ELEGANTKITSUNE', 'uzi way', 'WPGG Habibi', 'XxDarkSasukexXx', 'endermqn125', 'SPD Dindy', 'Zigzagzombie', 'MiamiGgot', 'Lentor', 'CrankDatShiet', 'Lightningbolt420', 'Fishmanlok', 'MeowCatPat', 'silverjnger', 'La Jatte Seurat', 'monet lily pads', 'Daddy Zap', 'Aslaforhade', 'livesean', 'NamFlashback', 'RamadanDeathcap', 'Vex Offender', 'AhWoah', 'SupportCarryOnly', 'wyattrix', 'RottedSocrates', 'HuntToKill', 'Hoidini', 'SnowyHare96', 'Cody Martins', 'orgasmes donor', 'Zawarudo97', 'BigMike66', 'fooooootprint', 'waytogoshadow', 'AsP00n', 'olih', 'sodlfmadmsalsrb', 'WalksWithALimp', 'EstrogenDiff', 'Sir Yehweh', 'MeatyCentipede', 'ThnkyoufrthVenom', 'bobaFLEXED', 'TigerAmbassador', 'Koopz', 'PhongHong', 'Bricklayer622', 'NessTU', 'Burbërry', 'PikachuYou23', 'GrimBlue', 'Kov Shepard', 'GetDonged25', 'estapie', 'xo 991', 'Jama 7', 'AnarchyReign09', 'blackstone2six', 'Kíng Kong', 'MisterDahmer', 'butterbiscuit', 'Prokter', 'Jünë', 'Nicktenine', 'haozhudafeiji', 'PunishedKebab', 'Drak0n3', 'BluluWaffle', '2006batman', 'Dukt', 'veryLIYU', 'HalfTrack024', 'Karêem', 'Jerry West', 'CLYUBARI', 'Battlecast Bear', '69padilla69', 'IamBroder', 'KingLuxe', 'CounterClock92', 'HeckaFrick', 'Asheelarry', 'GETOWNDBITHC', 'EKP l ELFXBLADE', 'PrimarinaRose', 'MIDSUMMERDR3AM', 'Direwolf45', 'ÜnderCøver Gªs', 'Deaf Lee Sin', 'FriedSteakz', 'ProZ Jbox', 'SpankinU', 'Yellow Cloud', 'Taelaren', 'DeathMirage96', 'Fatsio', 'Explocivo', 'TheBabee', 'MylilOznog', 'PolskiOrzelPL', 'AssGoBoing', 'LeoTrickster', 'B0LT Action', 'Zacman', 'Pyp Pyp', 'DJ 3rd nip', 'Fanta Panda', 'ManCakeRobot', 'Lord Butt III', 'delfrona', 'Epicdegree', 'Cdpowder', 'gmdave', 'Impressionnant', 'plywoods', 'HeftyMichael', 'Kimtoness', 'BabyKarats', 'BOOBATHEGREAT', 'HaliPotatoAim', '0impact M1d', 'Maylia', 'FREEWAVE 6', 'Wakaipanda', 'Meetope', 'SpellMishap', 'HedgiesBoBedgies', 'brittlesiren224', 'DunnEasy', 'Otaku Waifu', 'report jg guys', 'StopBeinToxicPlz', 'funnelweb', 'ping me go int', 'scrubmuhballs', 'PolishW0nder', 'redned23', 'Oppel', 'RagingPenguin', 'CaptainCrap', 'AmandaGraci1', 'Joe R Biden Jr', 'switz', 'michaelScotch', 'Snipress', 'RdyMck', 'Armydino', 'amleth', 'Ace Heret0fore', 'METROID4U', 'MjnkKuann', 'DIESOFCRlNGE', 'DemonicBlank', 'poogzzz', 'buenas noches', 'Zeromagamen', 'LazyxxxCuDen', 'Halodjinn', 'R1skTh3Thr0n3', 'Kappasuna', 'paisano gamer', 'Billy Big Balls', 'Dime13', 'Hamoniac', 'Lechuguitaa', 'havokgaming', 'UtterDisgust', 'FLYYOUROWNFLAG', 'banhbao stillfly', 'futher', 'banhbaoboi', 'l3ftyk1ng', 'Latin Refugee', 'Loli Beat', 'Trap God', 'MissAngelic', 'Mind Over Mana', 'iTranqui1ity', 'Leî', 'GiveMeThatGooch', 'StoliCanoli', 'KeePURBreathK', 'phokingaye', 'Grimmace6', 'Cłever', 'Pooossey', 'iamitter', 'the amigo', 'Freshslate', 'FastSlowLoris', 'Gangoon', 'jahh808imi', 'Parallelogrammar', 'Spewcup', 'Karthy', 'Voodoo Soulja', 'Sleépy', 'avitious', 'GXO0JcwWbz', 'Cap Straw Hat', 'Ciyuar', 'Brilliancy Me', 'The Exiled Waifu', 'Fecal Toes', 'Get Rule12b6ed', 'Toxic Graves', 'XOXOJOY', 'Philptheguy', 'mariJANNA waifu', 'NjGoat', 'GIORN0 GI0VANNA', 'ngon vo solo', 'Kaughnye', 'xxWILSONxx', 'Dog motif', 'IlIuminatii', 'BrotherChe', 'lunietunes', 'Spikeypacman', 'ExoviteChinese', 'Lord Juicifer', 'chromosome diff', 'HMC', 'Lagim', 'TotallyNotSmurf4', '1Menace2Society', 'Mr Onion Seller', 'bby georgia', 'jiangshangbaba', 'SparkySpartan', 'Teboose', 'Misery666', 'yvngNub', 'Vinpon', 'Jungle Wukong ', 'boo boo slaya', 'Thresh Records', 'Yuuki Sekai', 'Oghenekevwe', '3 Daydreaming', 'Silver Skywalker', 'jrxjgjcj', 'LOVEX PLOSION 69', 'Livemyga', 'LucidZombie', 'illewal', 'youngzgeg', 'douche de louche', 'i might be toxic', 'i make the rules', 'Word ExE', 'Un Pamplemousse', '     the grabber', 'DadBod Dave', 'Flavordaddy', 'Omar Zi Savage 2', 'TravisŽ', 'ILockgod', 'Jus Ryze', 'BraumsTiddyLover', 'king kunta', 'Foxmix02', 'Vhoxx', 'Elias5613', 'Sinnwin', 'Stormbreaker105', 'Respectoday', 'Booddda', 'sungpi', 'Death2moo', 'Strong Terry', 'TaoLay', 'É O ALCOOL', 'Gigo', 'Jorichen', 'Scoopbb', 'Floppawoppaa', '2JLEE  ', 'Aginør', 'fishbulb07', 'BrayFlex', 'Kaynivore', 'PoundC4ke', 'Choke me Vi', 'Achilles33', 'BETLOG MO', 'AhriUsesCharm', '11114932126v2', 'Anser', 'kdaddy66', 'CHICKENCURRY65', 'CrypticFlare20', 'BeefyChez', 'Frozenier', 'Knicks Reborn', 'Alisong XD', 'ICYpineapple77', 'Cyboru', 'QMS Lao Si Ji', 'StrawHatLuffe', 'Chipper Lad', 'Adrielll', 'FREDDYFAZBEAR87', 'Mside Grizzly', 'thedarkpaladin32', 'subby bf', 'Harry Stylez', 'MythicalGnome', 'yngyioyyt', 'Ostalgie', 'MagicianMatt', 'Reckless318', 'THE BIGGEST DAM', 'Astris Lex', 'DEMACIA STANDS', 'kdragon648', 'Calthiel', 'Nickolette', 'ElectriNerdDonut', 'CaladboIg', 'Jun2893', 'Xerisiel', 'JokesterXO', 'Jintl', 'CUCK0LD', 'SirGamezValorous', 'Sir Alrik Ander', 'True Gringo', 'Maxforce12', 'kDaOKent', 'LucidRaccoon', 'Ranger Crav', 'ChinaNegativeNew', 'Chill I got this', 'RampaginHobo', 'SoFlySenpai', 'CrunkBandicoot17', 'Golden Thunder', 'symbiotePRIME', 'Vichi02', 'YOUr2Heavy4ME', 'Steezypop', 'rippintides', 'IAwwsteen', 'Ba Bánh Bò', 'SoloGuezi', 'Nexx27', 'Krenox', 'TrueVirtuosity', 'Stoned Clefairy', 'Monster Sheng', 'blackmage8bit', 'Havilliard', 'N Luuser', 'l3RENNAN', 'Ne1sonism', 'Hiriko', 'KEVORGOD', 'Trolling Main', 'XDlucaripXD', 'OwHellYeah', 'FZY', 'SierraMikeDelta', 'tyusjdn', 'LukeNukemV', 'D1ORDIOR', 'Anickolas', 'SimpleSim', 'garou5', 'BadLemonNoHope', 'asklv', 'ToastToastToast', 'Kelvinzbb', 'Aromaster', 'PrincessPetch', 'umjimo', 'cccaesar', 'PROJECTNUTSACK1', 'Sir Supportsalot', 'xXxxooXo', 'kFbRRon', 'pnvstbl', 'Mester2242', 'BL22', 'MISSLEXA', 'Script of Dark', 'DoinA', 'Thunderballs7', 'PickledDillz', 'Damac1anStandard', 'NobodyAxel', 'StabbHappyy', 'SLASH EFF EFF', 'DarkStoneMaster1', 'Kcoy', 'InnateOcean', 'BiPower', 'CoG Solarxninja', 'Turtlagon', 'ThirdPlains', 'Canuckerz', 'JOHAL1', 'sit0429ga', 'BanserBro', 'XxMonwamxX', 'CrypticBombs', 'F1R3FOXX21', 'MinionUnionRep', 'Alch Your Ego', 'Polomobo', 'RezonCates', 'AnthonyJustin', 'DrDoritoz', 'rinchuu', 'CozyKayn', 'eneaRoSoNeRo', 'Feetus Swallower', 'Temp346237', '1533', 'Evelyene Sama', 'jumpman255', 'bigdikbandit98', 'Maim The Support', 'Moyaman', 'HughJassNuts', 'Finding Teemò', 'nutbutdonetella', 'Heavens Night', 'Zygahh', 'Annikitty', 'JCTheBeast', 'Hoodrich17', 'Dsminist', 'Bathtubsweat', 'zvbvn', 'qxtkoo', 'Thornfin', 'MLS', 'xMeachx', 'Zalarlenesna', 'SimplyRiley', 'Slightly Lesbian', 'Just a RockK', 'xylulose', 'I Am The Circus', 'Alvisaarthad', 'KiIIaCam', 'OneBOOM', 'TheWaterBoy69', 'sippinchoccymilk', 'Willy Trees', 'Dylan is Dead', 'Tehgonz', 'kk cruisin', 'Cas Bee Farm', 'Vanìsh', 'StewyBuds', 'Moraein', 'TheDravenmeister', 'ScertNmurt', 'oRevert', 'Digital Dagger', 'scooty17', 'Finbar2', 'Rising Wind', 'subvi', 'Cawos', 'Feedonomics', 'Khaegar', 'MV Shcneller ', 'Kremist', 'xxwwigxwwagxx', 'KoukiThePeasant', 'cuuiyygc', 'shadowdwarf III', 'Timmychunga', 'Senju2', 'faketailopez', '  Crazzy Puppy  ', 'GrosBumSale', 'terminationator', 'tonyjack', 'YvesSaintLaurent', 'Siion', 'koolpis', 'L3Knight', 'Quínn', '1m batman', 'sir zarcon', 'corn99', 'Of The Valar', 'LouDowg', 'Coochie Desire', 'xInkredible', 'waterdrinker12', 'brenning15', 'Zarathuxtra', 'briochebun', 'Saint Inca', 'GANGROCK', 'prettylites', 'Dindynn ', 'Wolfiewood', 'OMGaFnBear', 'Krypt00', 'Sysliana', 'Drazha', 'a nasty mess', 'Bloody Sanguine', 'MrDrBrownThumb', 'Cragonator', 'LordJustice95', 'TheUndisputed', 'TheeCatzMeow', 'OverZelus', 'RiptidaL', 'PARK SEROI', 'victor', 'Onefasterboy', 'quagberly', 'wedbaron', 'Satiety', 'Dopest', 'SADDAMHUSS1NGED', 'silentdeath143', 'Tye Rex', 'Moonmac', 'KeithShaley', 'Milkywater3222', 'Kervnin', 'JCDrizzy', 'IWINYOUL0SE', 'Ca1cu1atedError', 'Saidku', '08Beelzebub', 'IamYuzo', 'Aram Goat', 'kong1', 'Savior Self', 'shrunknmonky', 'Refreshments', 'FireBelowTheMtn', 'TribalGawd', 'Ecktoplasm', 'LordBeMyShield', 'KSS Avenge', 'KSS Bunny', 'Mystogo', 'brodekeiser', 'OffTiltGhoul', 'Drintas', 'Shadeslayer998', 'Shadowthemagez', 'râw', 'FYI x iSlay', 'pizzzatoes', 'Cereal4Dinner', 'C9 SchruteFarms', 'xardespl', 'KentheADC', 'malevolentshrin3', 'Tanchy', 'SpaceLion14', 'Intetsrasu', 'YvaGr33d', 'Infinite Void', 'LewdKitsune', 'Perseverant', 'Winstang', 'Kazan', 'Raze01', 'ZackTattack', 'Garbage Riven', 'MD0T', 'SwanZam', 'Aaroń', 'Exijun', 'DEADAIM13', 'FutureBobcat25', 'Scivir', 'Fâst', 'ARISE QUEEN', 'SeaKoala', 'Fahzi', 'yowoodzm', 'Washed Glizzy', 'FishuFreshu', 'BodMang Zeru', 'Love Dumper', 'Bussydefiler', 'Fall3n Soldi3r', 'Blxckgate', 'Crossingguard', 'OSav', 'Dumptime', 'HannibalBarca12', 'CholyArt', 'DrippingDroopies', 'Alegsus', 'Ray Yawn', 'FernandoOhtani', 'LightningGod1738', 'XxGrakynxX', 'VivoVitro', 'RandelI', 'ryeung1', 'KevinChangSz', 'DaddyyDraven', 'LaCuboidVoid', 'alex1001458', 'Frost Prism', 'Worst Silver NA', 'Robotic M1dget', 'BattleXD', 'RRnaiNwD', 'Recline ', 'Ambushee', 'Cocostanley', 'Kehaiji', 'dreamweaver86', 'aizaiff', 'Perculez', 'FringoMcDingo']\n"
     ]
    }
   ],
   "source": [
    "# Get the account names of every player encountered\n",
    "\n",
    "players_encountered = []\n",
    "\n",
    "\n",
    "for index in range(len(match_participants)-1):\n",
    "    players_encountered.append(watcher.summoner.by_puuid(region, match_participants[index])['name'])\n",
    "\n",
    "#print(players_encountered)\n"
   ]
  },
  {
   "cell_type": "code",
   "execution_count": 29,
   "metadata": {},
   "outputs": [
    {
     "name": "stdout",
     "output_type": "stream",
     "text": [
      "['Plus3Hundo', 'Homiechillax', 'Fencepuppet', 'Cermit365', 'blikblak', 'Will BB', 'àntx', 'Diu Da Will BB', 'Domz01', 'SugarHighs', 'Tuna Davis', 'Mattyboyywonder', 'chimuru', '24oz Cold Brew', 'Jessefcd', 'SunxRise', 'YTyukii', 'Nov4yn', 'jetstream jordan', 'Inconvenience', 'Unknown Father', 'Znulodsa', 'Rydur01', 'Mega Adhesive', 'hehexd tyler1', 'chubzhuh', 'ForeverDark2012', 'Issvc', 'Bryanxq3', 'cantivskeitaro', 'Hardsruck', 'hiwi', 'Ozymandias774', 'PostViral', 'The Cosby Suite', 'Zatagon', 'cutiejam', 'PrettyCuteDaddy', 'TheLordEsus', 'zhlhahaha', 'DrDoughnutDude', 'Natebgreat', 'maorT', 'Phangphxn', 'Šampp', 'Jiimoto', 'o Wayfinder o', 'Daddy Skii', 'Skeptical Otter', 'drkeagle98', 'Thaifi', 'Outcome', 'Kraken Mutes ALL', 'Mr Chiwi', 'LCS Miracle Run', 'Harpooneerx', 'Wabby Babbo', 'FrostyCake', 'DooDoo Deluxe', 'ZhouXingwen', 'ShinigamiGhoul', 'BumsAreCool', 'THEGTCGU111', 'Bobgrey', 'SlenderLS', 'iFlapy', 'ShadoKida', 'VenomHss010', 'titom9527', 'KmoStaz', 'Xehanort565', 'AbhiOne', 'SenpouRendan', 'Cyrgg', 'SolidOcelot', 'SKT T1 Solo', 'Fr0mHellWithL0ve', 'Dawdles', 'No Parlay', 'J821 Skairipa', 'FM MOOD', 'ShadowedSpirit', 'Mora Azul', 'Yuevboo', '2Scared2Fap ', 'DunqMetro', 'TimothyAlex', 'ShadowedPengu', 'HealthCareHer0', 'Hypokriite', 'El Compi Angel', 'Ivorik', 'Jauruss', 'kayleeen', 'AMERICAN AEGlS', 'STARSCREAIVI', 'K1000', 'We Trippy Mane', 'hEllShAcKLEs', 'BLITZ 1 TRICK 01', 'BRIAN DEad CHAMP', 'elReventón', 'Snowcry7', 'jamo18', 'PRîMĘ', 'LividPeanut', 'twixenstein', 'Swash', 'Liiiisa', 'DrGooglepants', 'Pentameme', 'MangoMercy', 'Qiao Bi Luo ', 'yumy player', 'Pulpy Milk', 'PoliteUsableMutt', 'Mr Obtuse', 'dianayud', 'Ferosit', 'SphinterTickler', 'Bluejrs', 'Castielet', 'Dr Cism', 'Lilriblet', 'riven aficionado', 'Micheal Wave ', 'Artex196', 'Boots n Biscuits', 'GoyMeetsWorld', 'it Ohh', 'Chel0oo', '0h Sh', 'lorddarthroro', 'HMcKringleberry', 'SethiousBlack', 'ShinoDdragon', 'YgVriel', 'SammyTae', 'Jokaeryje', 'BIunt With Trudo', 'SloshyFungGuy', 'RayyyLmao', 'TheWarrior2728', 'GetGoldGet500', 'UrWeakInThePants', 'deader than dirt', 'sprayn', 'Orrelios', 'LaughingFang', 'Randumbweirdo', 'MacTSS2212', 'Labugzorg', 'scrapdizzle', 'Sinister BIade', 'Ooranges', 'Peong', 'Baajabbuss', 'MyAltToLearnShen', 'PentaKuehl', 'Axizon', 'failúre', 'Tunning Crow', 'Lem0nades', 'Tilt2g', 'Headkraken', 'ToxicJuiceBox', 'Pomegranate Milk', 'Awosome1', 'ICreatedLove', 'Kai Jun Seong', '4th Shot Enjoyer', 'ELEGANTKITSUNE', 'uzi way', 'WPGG Habibi', 'XxDarkSasukexXx', 'endermqn125', 'SPD Dindy', 'Zigzagzombie', 'MiamiGgot', 'Lentor', 'CrankDatShiet', 'Lightningbolt420', 'Fishmanlok', 'MeowCatPat', 'silverjnger', 'La Jatte Seurat', 'monet lily pads', 'Daddy Zap', 'Aslaforhade', 'livesean', 'NamFlashback', 'RamadanDeathcap', 'Vex Offender', 'AhWoah', 'SupportCarryOnly', 'wyattrix', 'RottedSocrates', 'HuntToKill', 'Hoidini', 'SnowyHare96', 'Cody Martins', 'orgasmes donor', 'Zawarudo97', 'BigMike66', 'fooooootprint', 'waytogoshadow', 'AsP00n', 'olih', 'sodlfmadmsalsrb', 'WalksWithALimp', 'EstrogenDiff', 'Sir Yehweh', 'MeatyCentipede', 'ThnkyoufrthVenom', 'bobaFLEXED', 'TigerAmbassador', 'Koopz', 'PhongHong', 'Bricklayer622', 'NessTU', 'Burbërry', 'PikachuYou23', 'GrimBlue', 'Kov Shepard', 'GetDonged25', 'estapie', 'xo 991', 'Jama 7', 'AnarchyReign09', 'blackstone2six', 'Kíng Kong', 'MisterDahmer', 'butterbiscuit', 'Prokter', 'Jünë', 'Nicktenine', 'haozhudafeiji', 'PunishedKebab', 'Drak0n3', 'BluluWaffle', '2006batman', 'Dukt', 'veryLIYU', 'HalfTrack024', 'Karêem', 'Jerry West', 'CLYUBARI', 'Battlecast Bear', '69padilla69', 'IamBroder', 'KingLuxe', 'CounterClock92', 'HeckaFrick', 'Asheelarry', 'GETOWNDBITHC', 'EKP l ELFXBLADE', 'PrimarinaRose', 'MIDSUMMERDR3AM', 'Direwolf45', 'ÜnderCøver Gªs', 'Deaf Lee Sin', 'FriedSteakz', 'ProZ Jbox', 'SpankinU', 'Yellow Cloud', 'Taelaren', 'DeathMirage96', 'Fatsio', 'Explocivo', 'TheBabee', 'MylilOznog', 'PolskiOrzelPL', 'AssGoBoing', 'LeoTrickster', 'B0LT Action', 'Zacman', 'Pyp Pyp', 'DJ 3rd nip', 'Fanta Panda', 'ManCakeRobot', 'Lord Butt III', 'delfrona', 'Epicdegree', 'Cdpowder', 'gmdave', 'Impressionnant', 'plywoods', 'HeftyMichael', 'Kimtoness', 'BabyKarats', 'BOOBATHEGREAT', 'HaliPotatoAim', '0impact M1d', 'Maylia', 'FREEWAVE 6', 'Wakaipanda', 'Meetope', 'SpellMishap', 'HedgiesBoBedgies', 'brittlesiren224', 'DunnEasy', 'Otaku Waifu', 'report jg guys', 'StopBeinToxicPlz', 'funnelweb', 'ping me go int', 'scrubmuhballs', 'PolishW0nder', 'redned23', 'Oppel', 'RagingPenguin', 'CaptainCrap', 'AmandaGraci1', 'Joe R Biden Jr', 'switz', 'michaelScotch', 'Snipress', 'RdyMck', 'Armydino', 'amleth', 'Ace Heret0fore', 'METROID4U', 'MjnkKuann', 'DIESOFCRlNGE', 'DemonicBlank', 'poogzzz', 'buenas noches', 'Zeromagamen', 'LazyxxxCuDen', 'Halodjinn', 'R1skTh3Thr0n3', 'Kappasuna', 'paisano gamer', 'Billy Big Balls', 'Dime13', 'Hamoniac', 'Lechuguitaa', 'havokgaming', 'UtterDisgust', 'FLYYOUROWNFLAG', 'banhbao stillfly', 'futher', 'banhbaoboi', 'l3ftyk1ng', 'Latin Refugee', 'Loli Beat', 'Trap God', 'MissAngelic', 'Mind Over Mana', 'iTranqui1ity', 'Leî', 'GiveMeThatGooch', 'StoliCanoli', 'KeePURBreathK', 'phokingaye', 'Grimmace6', 'Cłever', 'Pooossey', 'iamitter', 'the amigo', 'Freshslate', 'FastSlowLoris', 'Gangoon', 'jahh808imi', 'Parallelogrammar', 'Spewcup', 'Karthy', 'Voodoo Soulja', 'Sleépy', 'avitious', 'GXO0JcwWbz', 'Cap Straw Hat', 'Ciyuar', 'Brilliancy Me', 'The Exiled Waifu', 'Fecal Toes', 'Get Rule12b6ed', 'Toxic Graves', 'XOXOJOY', 'Philptheguy', 'mariJANNA waifu', 'NjGoat', 'GIORN0 GI0VANNA', 'ngon vo solo', 'Kaughnye', 'xxWILSONxx', 'Dog motif', 'IlIuminatii', 'BrotherChe', 'lunietunes', 'Spikeypacman', 'ExoviteChinese', 'Lord Juicifer', 'chromosome diff', 'HMC', 'Lagim', 'TotallyNotSmurf4', '1Menace2Society', 'Mr Onion Seller', 'bby georgia', 'jiangshangbaba', 'SparkySpartan', 'Teboose', 'Misery666', 'yvngNub', 'Vinpon', 'Jungle Wukong ', 'boo boo slaya', 'Thresh Records', 'Yuuki Sekai', 'Oghenekevwe', '3 Daydreaming', 'Silver Skywalker', 'jrxjgjcj', 'LOVEX PLOSION 69', 'Livemyga', 'LucidZombie', 'illewal', 'youngzgeg', 'douche de louche', 'i might be toxic', 'i make the rules', 'Word ExE', 'Un Pamplemousse', '     the grabber', 'DadBod Dave', 'Flavordaddy', 'Omar Zi Savage 2', 'TravisŽ', 'ILockgod', 'Jus Ryze', 'BraumsTiddyLover', 'king kunta', 'Foxmix02', 'Vhoxx', 'Elias5613', 'Sinnwin', 'Stormbreaker105', 'Respectoday', 'Booddda', 'sungpi', 'Death2moo', 'Strong Terry', 'TaoLay', 'É O ALCOOL', 'Gigo', 'Jorichen', 'Scoopbb', 'Floppawoppaa', '2JLEE  ', 'Aginør', 'fishbulb07', 'BrayFlex', 'Kaynivore', 'PoundC4ke', 'Choke me Vi', 'Achilles33', 'BETLOG MO', 'AhriUsesCharm', '11114932126v2', 'Anser', 'kdaddy66', 'CHICKENCURRY65', 'CrypticFlare20', 'BeefyChez', 'Frozenier', 'Knicks Reborn', 'Alisong XD', 'ICYpineapple77', 'Cyboru', 'QMS Lao Si Ji', 'StrawHatLuffe', 'Chipper Lad', 'Adrielll', 'FREDDYFAZBEAR87', 'Mside Grizzly', 'thedarkpaladin32', 'subby bf', 'Harry Stylez', 'MythicalGnome', 'yngyioyyt', 'Ostalgie', 'MagicianMatt', 'Reckless318', 'THE BIGGEST DAM', 'Astris Lex', 'DEMACIA STANDS', 'kdragon648', 'Calthiel', 'Nickolette', 'ElectriNerdDonut', 'CaladboIg', 'Jun2893', 'Xerisiel', 'JokesterXO', 'Jintl', 'CUCK0LD', 'SirGamezValorous', 'Sir Alrik Ander', 'True Gringo', 'Maxforce12', 'kDaOKent', 'LucidRaccoon', 'Ranger Crav', 'ChinaNegativeNew', 'Chill I got this', 'RampaginHobo', 'SoFlySenpai', 'CrunkBandicoot17', 'Golden Thunder', 'symbiotePRIME', 'Vichi02', 'YOUr2Heavy4ME', 'Steezypop', 'rippintides', 'IAwwsteen', 'Ba Bánh Bò', 'SoloGuezi', 'Nexx27', 'Krenox', 'TrueVirtuosity', 'Stoned Clefairy', 'Monster Sheng', 'blackmage8bit', 'Havilliard', 'N Luuser', 'l3RENNAN', 'Ne1sonism', 'Hiriko', 'KEVORGOD', 'Trolling Main', 'XDlucaripXD', 'OwHellYeah', 'FZY', 'SierraMikeDelta', 'tyusjdn', 'LukeNukemV', 'D1ORDIOR', 'Anickolas', 'SimpleSim', 'garou5', 'BadLemonNoHope', 'asklv', 'ToastToastToast', 'Kelvinzbb', 'Aromaster', 'PrincessPetch', 'umjimo', 'cccaesar', 'PROJECTNUTSACK1', 'Sir Supportsalot', 'xXxxooXo', 'kFbRRon', 'pnvstbl', 'Mester2242', 'BL22', 'MISSLEXA', 'Script of Dark', 'DoinA', 'Thunderballs7', 'PickledDillz', 'Damac1anStandard', 'NobodyAxel', 'StabbHappyy', 'SLASH EFF EFF', 'DarkStoneMaster1', 'Kcoy', 'InnateOcean', 'BiPower', 'CoG Solarxninja', 'Turtlagon', 'ThirdPlains', 'Canuckerz', 'JOHAL1', 'sit0429ga', 'BanserBro', 'XxMonwamxX', 'CrypticBombs', 'F1R3FOXX21', 'MinionUnionRep', 'Alch Your Ego', 'Polomobo', 'RezonCates', 'AnthonyJustin', 'DrDoritoz', 'rinchuu', 'CozyKayn', 'eneaRoSoNeRo', 'Feetus Swallower', 'Temp346237', '1533', 'Evelyene Sama', 'jumpman255', 'bigdikbandit98', 'Maim The Support', 'Moyaman', 'HughJassNuts', 'Finding Teemò', 'nutbutdonetella', 'Heavens Night', 'Zygahh', 'Annikitty', 'JCTheBeast', 'Hoodrich17', 'Dsminist', 'Bathtubsweat', 'zvbvn', 'qxtkoo', 'Thornfin', 'MLS', 'xMeachx', 'Zalarlenesna', 'SimplyRiley', 'Slightly Lesbian', 'Just a RockK', 'xylulose', 'I Am The Circus', 'Alvisaarthad', 'KiIIaCam', 'OneBOOM', 'TheWaterBoy69', 'sippinchoccymilk', 'Willy Trees', 'Dylan is Dead', 'Tehgonz', 'kk cruisin', 'Cas Bee Farm', 'Vanìsh', 'StewyBuds', 'Moraein', 'TheDravenmeister', 'ScertNmurt', 'oRevert', 'Digital Dagger', 'scooty17', 'Finbar2', 'Rising Wind', 'subvi', 'Cawos', 'Feedonomics', 'Khaegar', 'MV Shcneller ', 'Kremist', 'xxwwigxwwagxx', 'KoukiThePeasant', 'cuuiyygc', 'shadowdwarf III', 'Timmychunga', 'Senju2', 'faketailopez', '  Crazzy Puppy  ', 'GrosBumSale', 'terminationator', 'tonyjack', 'YvesSaintLaurent', 'Siion', 'koolpis', 'L3Knight', 'Quínn', '1m batman', 'sir zarcon', 'corn99', 'Of The Valar', 'LouDowg', 'Coochie Desire', 'xInkredible', 'waterdrinker12', 'brenning15', 'Zarathuxtra', 'briochebun', 'Saint Inca', 'GANGROCK', 'prettylites', 'Dindynn ', 'Wolfiewood', 'OMGaFnBear', 'Krypt00', 'Sysliana', 'Drazha', 'a nasty mess', 'Bloody Sanguine', 'MrDrBrownThumb', 'Cragonator', 'LordJustice95', 'TheUndisputed', 'TheeCatzMeow', 'OverZelus', 'RiptidaL', 'PARK SEROI', 'victor', 'Onefasterboy', 'quagberly', 'wedbaron', 'Satiety', 'Dopest', 'SADDAMHUSS1NGED', 'silentdeath143', 'Tye Rex', 'Moonmac', 'KeithShaley', 'Milkywater3222', 'Kervnin', 'JCDrizzy', 'IWINYOUL0SE', 'Ca1cu1atedError', 'Saidku', '08Beelzebub', 'IamYuzo', 'Aram Goat', 'kong1', 'Savior Self', 'shrunknmonky', 'Refreshments', 'FireBelowTheMtn', 'TribalGawd', 'Ecktoplasm', 'LordBeMyShield', 'KSS Avenge', 'KSS Bunny', 'Mystogo', 'brodekeiser', 'OffTiltGhoul', 'Drintas', 'Shadeslayer998', 'Shadowthemagez', 'râw', 'FYI x iSlay', 'pizzzatoes', 'Cereal4Dinner', 'C9 SchruteFarms', 'xardespl', 'KentheADC', 'malevolentshrin3', 'Tanchy', 'SpaceLion14', 'Intetsrasu', 'YvaGr33d', 'Infinite Void', 'LewdKitsune', 'Perseverant', 'Winstang', 'Kazan', 'Raze01', 'ZackTattack', 'Garbage Riven', 'MD0T', 'SwanZam', 'Aaroń', 'Exijun', 'DEADAIM13', 'FutureBobcat25', 'Scivir', 'Fâst', 'ARISE QUEEN', 'SeaKoala', 'Fahzi', 'yowoodzm', 'Washed Glizzy', 'FishuFreshu', 'BodMang Zeru', 'Love Dumper', 'Bussydefiler', 'Fall3n Soldi3r', 'Blxckgate', 'Crossingguard', 'OSav', 'Dumptime', 'HannibalBarca12', 'CholyArt', 'DrippingDroopies', 'Alegsus', 'Ray Yawn', 'FernandoOhtani', 'LightningGod1738', 'XxGrakynxX', 'VivoVitro', 'RandelI', 'ryeung1', 'KevinChangSz', 'DaddyyDraven', 'LaCuboidVoid', 'alex1001458', 'Frost Prism', 'Worst Silver NA', 'Robotic M1dget', 'BattleXD', 'RRnaiNwD', 'Recline ', 'Ambushee', 'Cocostanley', 'Kehaiji', 'dreamweaver86', 'aizaiff', 'Perculez', 'FringoMcDingo']\n"
     ]
    }
   ],
   "source": [
    "# Remove this player's name from the list\n",
    "players_encountered.remove('Jedı07')"
   ]
  },
  {
   "cell_type": "code",
   "execution_count": 31,
   "metadata": {},
   "outputs": [
    {
     "name": "stdout",
     "output_type": "stream",
     "text": [
      "0\n",
      "100\n",
      "200\n",
      "300\n",
      "400\n",
      "500\n",
      "600\n",
      "700\n"
     ]
    }
   ],
   "source": [
    "# Create directories for every player and save their match history within\n",
    "general_dir = '../data/'\n",
    "\n",
    "for index in range(len(players_encountered)):\n",
    "    player_dir = general_dir + players_encountered[index] + '_match_history'\n",
    "\n",
    "    # Create player directory\n",
    "    if os.path.exists(player_dir):\n",
    "        shutil.rmtree(player_dir)\n",
    "    os.mkdir(player_dir)\n",
    "\n",
    "    # Get the player's match history\n",
    "    player_history = watcher.match.matchlist_by_puuid(region, match_participants[index], queue=420, count=100)\n",
    "\n",
    "    # Save match history as json\n",
    "    player_history_file_path = player_dir + '/' + players_encountered[index] + '_match_history.json'\n",
    "    player_history_json_string = json.dumps(player_history, indent=2)\n",
    "    player_history_json_file = open(player_history_file_path, 'w')\n",
    "    player_history_json_file.write(player_history_json_string)\n",
    "    player_history_json_file.close()\n",
    "\n",
    "    if (index%100==0):\n",
    "        print(index)"
   ]
  },
  {
   "cell_type": "code",
   "execution_count": 5,
   "metadata": {},
   "outputs": [
    {
     "name": "stdout",
     "output_type": "stream",
     "text": [
      "Player #0, Plus3Hundo completed.\n",
      "Player #50, Thaifi completed.\n",
      "Player #100, BRIAN DEad CHAMP completed.\n",
      "Player #150, MacTSS2212 completed.\n",
      "NA1_4209936171 is broken. Skipping.\n",
      "Player #200, Cody Martins completed.\n",
      "Player #250, KingLuxe completed.\n",
      "Player #300, DunnEasy completed.\n",
      "Player #350, Leî completed.\n",
      "Player #400, jiangshangbaba completed.\n",
      "Player #450, Aginør completed.\n",
      "Player #500, Maxforce12 completed.\n",
      "Player #550, Sir Supportsalot completed.\n",
      "Player #600, Zygahh completed.\n",
      "Player #650,   Crazzy Puppy   completed.\n",
      "NA1_4035484363 is broken. Skipping.\n",
      "Player #700, Milkywater3222 completed.\n",
      "Player #750, FutureBobcat25 completed.\n"
     ]
    }
   ],
   "source": [
    "# temporary variable to avoid re-executing\n",
    "players_encountered = ['Plus3Hundo', 'Homiechillax', 'Fencepuppet', 'Cermit365', 'blikblak', 'Will BB', 'àntx', 'Diu Da Will BB', 'Domz01', 'SugarHighs', 'Tuna Davis', 'Mattyboyywonder', 'chimuru', '24oz Cold Brew', 'Jessefcd', 'SunxRise', 'YTyukii', 'Nov4yn', 'jetstream jordan', 'Inconvenience', 'Unknown Father', 'Znulodsa', 'Rydur01', 'Mega Adhesive', 'hehexd tyler1', 'chubzhuh', 'ForeverDark2012', 'Issvc', 'Bryanxq3', 'cantivskeitaro', 'Hardsruck', 'hiwi', 'Ozymandias774', 'PostViral', 'The Cosby Suite', 'Zatagon', 'cutiejam', 'PrettyCuteDaddy', 'TheLordEsus', 'zhlhahaha', 'DrDoughnutDude', 'Natebgreat', 'maorT', 'Phangphxn', 'Šampp', 'Jiimoto', 'o Wayfinder o', 'Daddy Skii', 'Skeptical Otter', 'drkeagle98', 'Thaifi', 'Outcome', 'Kraken Mutes ALL', 'Mr Chiwi', 'LCS Miracle Run', 'Harpooneerx', 'Wabby Babbo', 'FrostyCake', 'DooDoo Deluxe', 'ZhouXingwen', 'ShinigamiGhoul', 'BumsAreCool', 'THEGTCGU111', 'Bobgrey', 'SlenderLS', 'iFlapy', 'ShadoKida', 'VenomHss010', 'titom9527', 'KmoStaz', 'Xehanort565', 'AbhiOne', 'SenpouRendan', 'Cyrgg', 'SolidOcelot', 'SKT T1 Solo', 'Fr0mHellWithL0ve', 'Dawdles', 'No Parlay', 'J821 Skairipa', 'FM MOOD', 'ShadowedSpirit', 'Mora Azul', 'Yuevboo', '2Scared2Fap ', 'DunqMetro', 'TimothyAlex', 'ShadowedPengu', 'HealthCareHer0', 'Hypokriite', 'El Compi Angel', 'Ivorik', 'Jauruss', 'kayleeen', 'AMERICAN AEGlS', 'STARSCREAIVI', 'K1000', 'We Trippy Mane', 'hEllShAcKLEs', 'BLITZ 1 TRICK 01', 'BRIAN DEad CHAMP', 'elReventón', 'Snowcry7', 'jamo18', 'PRîMĘ', 'LividPeanut', 'twixenstein', 'Swash', 'Liiiisa', 'DrGooglepants', 'Pentameme', 'MangoMercy', 'Qiao Bi Luo ', 'yumy player', 'Pulpy Milk', 'PoliteUsableMutt', 'Mr Obtuse', 'dianayud', 'Ferosit', 'SphinterTickler', 'Bluejrs', 'Castielet', 'Dr Cism', 'Lilriblet', 'riven aficionado', 'Micheal Wave ', 'Artex196', 'Boots n Biscuits', 'GoyMeetsWorld', 'it Ohh', 'Chel0oo', '0h Sh', 'lorddarthroro', 'HMcKringleberry', 'SethiousBlack', 'ShinoDdragon', 'YgVriel', 'SammyTae', 'Jokaeryje', 'BIunt With Trudo', 'SloshyFungGuy', 'RayyyLmao', 'TheWarrior2728', 'GetGoldGet500', 'UrWeakInThePants', 'deader than dirt', 'sprayn', 'Orrelios', 'LaughingFang', 'Randumbweirdo', 'MacTSS2212', 'Labugzorg', 'scrapdizzle', 'Sinister BIade', 'Ooranges', 'Peong', 'Baajabbuss', 'MyAltToLearnShen', 'PentaKuehl', 'Axizon', 'failúre', 'Tunning Crow', 'Lem0nades', 'Tilt2g', 'Headkraken', 'ToxicJuiceBox', 'Pomegranate Milk', 'Awosome1', 'ICreatedLove', 'Kai Jun Seong', '4th Shot Enjoyer', 'ELEGANTKITSUNE', 'uzi way', 'WPGG Habibi', 'XxDarkSasukexXx', 'endermqn125', 'SPD Dindy', 'Zigzagzombie', 'MiamiGgot', 'Lentor', 'CrankDatShiet', 'Lightningbolt420', 'Fishmanlok', 'MeowCatPat', 'silverjnger', 'La Jatte Seurat', 'monet lily pads', 'Daddy Zap', 'Aslaforhade', 'livesean', 'NamFlashback', 'RamadanDeathcap', 'Vex Offender', 'AhWoah', 'SupportCarryOnly', 'wyattrix', 'RottedSocrates', 'HuntToKill', 'Hoidini', 'SnowyHare96', 'Cody Martins', 'orgasmes donor', 'Zawarudo97', 'BigMike66', 'fooooootprint', 'waytogoshadow', 'AsP00n', 'olih', 'sodlfmadmsalsrb', 'WalksWithALimp', 'EstrogenDiff', 'Sir Yehweh', 'MeatyCentipede', 'ThnkyoufrthVenom', 'bobaFLEXED', 'TigerAmbassador', 'Koopz', 'PhongHong', 'Bricklayer622', 'NessTU', 'Burbërry', 'PikachuYou23', 'GrimBlue', 'Kov Shepard', 'GetDonged25', 'estapie', 'xo 991', 'Jama 7', 'AnarchyReign09', 'blackstone2six', 'Kíng Kong', 'MisterDahmer', 'butterbiscuit', 'Prokter', 'Jünë', 'Nicktenine', 'haozhudafeiji', 'PunishedKebab', 'Drak0n3', 'BluluWaffle', '2006batman', 'Dukt', 'veryLIYU', 'HalfTrack024', 'Karêem', 'Jerry West', 'CLYUBARI', 'Battlecast Bear', '69padilla69', 'IamBroder', 'KingLuxe', 'CounterClock92', 'HeckaFrick', 'Asheelarry', 'GETOWNDBITHC', 'EKP l ELFXBLADE', 'PrimarinaRose', 'MIDSUMMERDR3AM', 'Direwolf45', 'ÜnderCøver Gªs', 'Deaf Lee Sin', 'FriedSteakz', 'ProZ Jbox', 'SpankinU', 'Yellow Cloud', 'Taelaren', 'DeathMirage96', 'Fatsio', 'Explocivo', 'TheBabee', 'MylilOznog', 'PolskiOrzelPL', 'AssGoBoing', 'LeoTrickster', 'B0LT Action', 'Zacman', 'Pyp Pyp', 'DJ 3rd nip', 'Fanta Panda', 'ManCakeRobot', 'Lord Butt III', 'delfrona', 'Epicdegree', 'Cdpowder', 'gmdave', 'Impressionnant', 'plywoods', 'HeftyMichael', 'Kimtoness', 'BabyKarats', 'BOOBATHEGREAT', 'HaliPotatoAim', '0impact M1d', 'Maylia', 'FREEWAVE 6', 'Wakaipanda', 'Meetope', 'SpellMishap', 'HedgiesBoBedgies', 'brittlesiren224', 'DunnEasy', 'Otaku Waifu', 'report jg guys', 'StopBeinToxicPlz', 'funnelweb', 'ping me go int', 'scrubmuhballs', 'PolishW0nder', 'redned23', 'Oppel', 'RagingPenguin', 'CaptainCrap', 'AmandaGraci1', 'Joe R Biden Jr', 'switz', 'michaelScotch', 'Snipress', 'RdyMck', 'Armydino', 'amleth', 'Ace Heret0fore', 'METROID4U', 'MjnkKuann', 'DIESOFCRlNGE', 'DemonicBlank', 'poogzzz', 'buenas noches', 'Zeromagamen', 'LazyxxxCuDen', 'Halodjinn', 'R1skTh3Thr0n3', 'Kappasuna', 'paisano gamer', 'Billy Big Balls', 'Dime13', 'Hamoniac', 'Lechuguitaa', 'havokgaming', 'UtterDisgust', 'FLYYOUROWNFLAG', 'banhbao stillfly', 'futher', 'banhbaoboi', 'l3ftyk1ng', 'Latin Refugee', 'Loli Beat', 'Trap God', 'MissAngelic', 'Mind Over Mana', 'iTranqui1ity', 'Leî', 'GiveMeThatGooch', 'StoliCanoli', 'KeePURBreathK', 'phokingaye', 'Grimmace6', 'Cłever', 'Pooossey', 'iamitter', 'the amigo', 'Freshslate', 'FastSlowLoris', 'Gangoon', 'jahh808imi', 'Parallelogrammar', 'Spewcup', 'Karthy', 'Voodoo Soulja', 'Sleépy', 'avitious', 'GXO0JcwWbz', 'Cap Straw Hat', 'Ciyuar', 'Brilliancy Me', 'The Exiled Waifu', 'Fecal Toes', 'Get Rule12b6ed', 'Toxic Graves', 'XOXOJOY', 'Philptheguy', 'mariJANNA waifu', 'NjGoat', 'GIORN0 GI0VANNA', 'ngon vo solo', 'Kaughnye', 'xxWILSONxx', 'Dog motif', 'IlIuminatii', 'BrotherChe', 'lunietunes', 'Spikeypacman', 'ExoviteChinese', 'Lord Juicifer', 'chromosome diff', 'HMC', 'Lagim', 'TotallyNotSmurf4', '1Menace2Society', 'Mr Onion Seller', 'bby georgia', 'jiangshangbaba', 'SparkySpartan', 'Teboose', 'Misery666', 'yvngNub', 'Vinpon', 'Jungle Wukong ', 'boo boo slaya', 'Thresh Records', 'Yuuki Sekai', 'Oghenekevwe', '3 Daydreaming', 'Silver Skywalker', 'jrxjgjcj', 'LOVEX PLOSION 69', 'Livemyga', 'LucidZombie', 'illewal', 'youngzgeg', 'douche de louche', 'i might be toxic', 'i make the rules', 'Word ExE', 'Un Pamplemousse', '     the grabber', 'DadBod Dave', 'Flavordaddy', 'Omar Zi Savage 2', 'TravisŽ', 'ILockgod', 'Jus Ryze', 'BraumsTiddyLover', 'king kunta', 'Foxmix02', 'Vhoxx', 'Elias5613', 'Sinnwin', 'Stormbreaker105', 'Respectoday', 'Booddda', 'sungpi', 'Death2moo', 'Strong Terry', 'TaoLay', 'É O ALCOOL', 'Gigo', 'Jorichen', 'Scoopbb', 'Floppawoppaa', '2JLEE  ', 'Aginør', 'fishbulb07', 'BrayFlex', 'Kaynivore', 'PoundC4ke', 'Choke me Vi', 'Achilles33', 'BETLOG MO', 'AhriUsesCharm', '11114932126v2', 'Anser', 'kdaddy66', 'CHICKENCURRY65', 'CrypticFlare20', 'BeefyChez', 'Frozenier', 'Knicks Reborn', 'Alisong XD', 'ICYpineapple77', 'Cyboru', 'QMS Lao Si Ji', 'StrawHatLuffe', 'Chipper Lad', 'Adrielll', 'FREDDYFAZBEAR87', 'Mside Grizzly', 'thedarkpaladin32', 'subby bf', 'Harry Stylez', 'MythicalGnome', 'yngyioyyt', 'Ostalgie', 'MagicianMatt', 'Reckless318', 'THE BIGGEST DAM', 'Astris Lex', 'DEMACIA STANDS', 'kdragon648', 'Calthiel', 'Nickolette', 'ElectriNerdDonut', 'CaladboIg', 'Jun2893', 'Xerisiel', 'JokesterXO', 'Jintl', 'CUCK0LD', 'SirGamezValorous', 'Sir Alrik Ander', 'True Gringo', 'Maxforce12', 'kDaOKent', 'LucidRaccoon', 'Ranger Crav', 'ChinaNegativeNew', 'Chill I got this', 'RampaginHobo', 'SoFlySenpai', 'CrunkBandicoot17', 'Golden Thunder', 'symbiotePRIME', 'Vichi02', 'YOUr2Heavy4ME', 'Steezypop', 'rippintides', 'IAwwsteen', 'Ba Bánh Bò', 'SoloGuezi', 'Nexx27', 'Krenox', 'TrueVirtuosity', 'Stoned Clefairy', 'Monster Sheng', 'blackmage8bit', 'Havilliard', 'N Luuser', 'l3RENNAN', 'Ne1sonism', 'Hiriko', 'KEVORGOD', 'Trolling Main', 'XDlucaripXD', 'OwHellYeah', 'FZY', 'SierraMikeDelta', 'tyusjdn', 'LukeNukemV', 'D1ORDIOR', 'Anickolas', 'SimpleSim', 'garou5', 'BadLemonNoHope', 'asklv', 'ToastToastToast', 'Kelvinzbb', 'Aromaster', 'PrincessPetch', 'umjimo', 'cccaesar', 'PROJECTNUTSACK1', 'Sir Supportsalot', 'xXxxooXo', 'kFbRRon', 'pnvstbl', 'Mester2242', 'BL22', 'MISSLEXA', 'Script of Dark', 'DoinA', 'Thunderballs7', 'PickledDillz', 'Damac1anStandard', 'NobodyAxel', 'StabbHappyy', 'SLASH EFF EFF', 'DarkStoneMaster1', 'Kcoy', 'InnateOcean', 'BiPower', 'CoG Solarxninja', 'Turtlagon', 'ThirdPlains', 'Canuckerz', 'JOHAL1', 'sit0429ga', 'BanserBro', 'XxMonwamxX', 'CrypticBombs', 'F1R3FOXX21', 'MinionUnionRep', 'Alch Your Ego', 'Polomobo', 'RezonCates', 'AnthonyJustin', 'DrDoritoz', 'rinchuu', 'CozyKayn', 'eneaRoSoNeRo', 'Feetus Swallower', 'Temp346237', '1533', 'Evelyene Sama', 'jumpman255', 'bigdikbandit98', 'Maim The Support', 'Moyaman', 'HughJassNuts', 'Finding Teemò', 'nutbutdonetella', 'Heavens Night', 'Zygahh', 'Annikitty', 'JCTheBeast', 'Hoodrich17', 'Dsminist', 'Bathtubsweat', 'zvbvn', 'qxtkoo', 'Thornfin', 'MLS', 'xMeachx', 'Zalarlenesna', 'SimplyRiley', 'Slightly Lesbian', 'Just a RockK', 'xylulose', 'I Am The Circus', 'Alvisaarthad', 'KiIIaCam', 'OneBOOM', 'TheWaterBoy69', 'sippinchoccymilk', 'Willy Trees', 'Dylan is Dead', 'Tehgonz', 'kk cruisin', 'Cas Bee Farm', 'Vanìsh', 'StewyBuds', 'Moraein', 'TheDravenmeister', 'ScertNmurt', 'oRevert', 'Digital Dagger', 'scooty17', 'Finbar2', 'Rising Wind', 'subvi', 'Cawos', 'Feedonomics', 'Khaegar', 'MV Shcneller ', 'Kremist', 'xxwwigxwwagxx', 'KoukiThePeasant', 'cuuiyygc', 'shadowdwarf III', 'Timmychunga', 'Senju2', 'faketailopez', '  Crazzy Puppy  ', 'GrosBumSale', 'terminationator', 'tonyjack', 'YvesSaintLaurent', 'Siion', 'koolpis', 'L3Knight', 'Quínn', '1m batman', 'sir zarcon', 'corn99', 'Of The Valar', 'LouDowg', 'Coochie Desire', 'xInkredible', 'waterdrinker12', 'brenning15', 'Zarathuxtra', 'briochebun', 'Saint Inca', 'GANGROCK', 'prettylites', 'Dindynn ', 'Wolfiewood', 'OMGaFnBear', 'Krypt00', 'Sysliana', 'Drazha', 'a nasty mess', 'Bloody Sanguine', 'MrDrBrownThumb', 'Cragonator', 'LordJustice95', 'TheUndisputed', 'TheeCatzMeow', 'OverZelus', 'RiptidaL', 'PARK SEROI', 'victor', 'Onefasterboy', 'quagberly', 'wedbaron', 'Satiety', 'Dopest', 'SADDAMHUSS1NGED', 'silentdeath143', 'Tye Rex', 'Moonmac', 'KeithShaley', 'Milkywater3222', 'Kervnin', 'JCDrizzy', 'IWINYOUL0SE', 'Ca1cu1atedError', 'Saidku', '08Beelzebub', 'IamYuzo', 'Aram Goat', 'kong1', 'Savior Self', 'shrunknmonky', 'Refreshments', 'FireBelowTheMtn', 'TribalGawd', 'Ecktoplasm', 'LordBeMyShield', 'KSS Avenge', 'KSS Bunny', 'Mystogo', 'brodekeiser', 'OffTiltGhoul', 'Drintas', 'Shadeslayer998', 'Shadowthemagez', 'râw', 'FYI x iSlay', 'pizzzatoes', 'Cereal4Dinner', 'C9 SchruteFarms', 'xardespl', 'KentheADC', 'malevolentshrin3', 'Tanchy', 'SpaceLion14', 'Intetsrasu', 'YvaGr33d', 'Infinite Void', 'LewdKitsune', 'Perseverant', 'Winstang', 'Kazan', 'Raze01', 'ZackTattack', 'Garbage Riven', 'MD0T', 'SwanZam', 'Aaroń', 'Exijun', 'DEADAIM13', 'FutureBobcat25', 'Scivir', 'Fâst', 'ARISE QUEEN', 'SeaKoala', 'Fahzi', 'yowoodzm', 'Washed Glizzy', 'FishuFreshu', 'BodMang Zeru', 'Love Dumper', 'Bussydefiler', 'Fall3n Soldi3r', 'Blxckgate', 'Crossingguard', 'OSav', 'Dumptime', 'HannibalBarca12', 'CholyArt', 'DrippingDroopies', 'Alegsus', 'Ray Yawn', 'FernandoOhtani', 'LightningGod1738', 'XxGrakynxX', 'VivoVitro', 'RandelI', 'ryeung1', 'KevinChangSz', 'DaddyyDraven', 'LaCuboidVoid', 'alex1001458', 'Frost Prism', 'Worst Silver NA', 'Robotic M1dget', 'BattleXD', 'RRnaiNwD', 'Recline ', 'Ambushee', 'Cocostanley', 'Kehaiji', 'dreamweaver86', 'aizaiff', 'Perculez', 'FringoMcDingo']\n",
    "\n",
    "general_dir = '../data/'\n",
    "\n",
    "# Create directories for each player's games and pull the games' data to those directories\n",
    "for index in range(len(players_encountered)):\n",
    "   # Directory of the player's match history\n",
    "   history_dir = general_dir + players_encountered[index] + '_match_history/' + players_encountered[index] + '_match_history.json'\n",
    "   matches_dir = general_dir + players_encountered[index] + '_match_history/matches' \n",
    "\n",
    "   # Create matches directory if it doesn't already exist\n",
    "   if not (os.path.exists(matches_dir)):\n",
    "      os.mkdir(matches_dir)\n",
    "\n",
    "   # Open player's match history file, and cycle through the list's values to create a directory per game\n",
    "   with open(history_dir) as history_file:\n",
    "      matches = json.load(history_file)\n",
    "\n",
    "      for match in matches:\n",
    "         # Directory where the match data will be stored\n",
    "         game_dir = general_dir + players_encountered[index] + '_match_history/' + 'matches/match_' + match\n",
    "         match_file_path = game_dir + '/' + match + '.json'\n",
    "\n",
    "         # Only make the pull request if the match data file does not already exist\n",
    "         if not (os.path.exists(match_file_path)):\n",
    "            # Create match directory\n",
    "            if os.path.exists(game_dir):\n",
    "               shutil.rmtree(game_dir)\n",
    "            os.mkdir(game_dir)\n",
    "\n",
    "            # Try block is necessary in case the match is a \"ghost game\". View Documentation for more information\n",
    "            try:\n",
    "               match_data = watcher.match.by_id(region, match)\n",
    "\n",
    "               # Save match data\n",
    "               match_data_json_string = json.dumps(match_data, indent=2)\n",
    "               match_data_json_file = open(match_file_path, 'w')\n",
    "               match_data_json_file.write(match_data_json_string)\n",
    "               match_data_json_file.close()\n",
    "            except:\n",
    "               os.rmdir(game_dir)\n",
    "               alert = match + ' is broken. Skipping.'\n",
    "               print(alert)\n",
    "   \n",
    "   alert = 'Player #' + str(index) + ', ' + players_encountered[index] + ' completed.'\n",
    "   if (index%50==0):\n",
    "      print(alert)"
   ]
  },
  {
   "cell_type": "markdown",
   "metadata": {},
   "source": [
    "## Open the cleaned ML-friendly match data file as a Dataframe"
   ]
  },
  {
   "cell_type": "code",
   "execution_count": 174,
   "metadata": {},
   "outputs": [
    {
     "name": "stdout",
     "output_type": "stream",
     "text": [
      "BEFORE TAG REPLACEMENT: \n",
      "   dmg_carry_0 dmg_carry_1\n",
      "0       Vayne      Akshan\n",
      "1        Ryze       Nasus \n",
      "\n",
      "AFTER TAG REPLACEMENT: \n",
      "   dmg_carry_0 dmg_carry_1\n",
      "0    Marksman    Marksman\n",
      "1        Mage     Fighter \n",
      "\n",
      "[['Marksman' 'Fighter' 'Fighter' 'Fighter' 'Mage' 'Marksman' 'Mage'\n",
      "  'Marksman' 'Fighter' 'Mage' 'Fighter' 'Marksman' 'Marksman' 'Support']\n",
      " ['Mage' 'Fighter' 'Support' 'Fighter' 'Mage' 'Marksman' 'Mage' 'Fighter'\n",
      "  'Marksman' 'Fighter' 'Fighter' 'Assassin' 'Marksman' 'Tank']]\n",
      "[[0. 0. 0. 1. 0. 0. 0. 1. 0. 0. 0. 0. 0. 1. 0. 0. 0. 0. 0. 1. 0. 0. 0. 0.\n",
      "  0. 0. 1. 0. 0. 0. 0. 0. 0. 1. 0. 0. 0. 0. 1. 0. 0. 0. 0. 0. 0. 1. 0. 0.\n",
      "  0. 1. 0. 0. 0. 0. 0. 0. 1. 0. 0. 0. 0. 1. 0. 0. 0. 0. 0. 0. 0. 1. 0. 0.\n",
      "  0. 0. 0. 1. 0. 0. 0. 0. 0. 0. 1. 0.]\n",
      " [0. 0. 1. 0. 0. 0. 0. 1. 0. 0. 0. 0. 0. 0. 0. 0. 1. 0. 0. 1. 0. 0. 0. 0.\n",
      "  0. 0. 1. 0. 0. 0. 0. 0. 0. 1. 0. 0. 0. 0. 1. 0. 0. 0. 0. 1. 0. 0. 0. 0.\n",
      "  0. 0. 0. 1. 0. 0. 0. 1. 0. 0. 0. 0. 0. 1. 0. 0. 0. 0. 1. 0. 0. 0. 0. 0.\n",
      "  0. 0. 0. 1. 0. 0. 0. 0. 0. 0. 0. 1.]]\n"
     ]
    }
   ],
   "source": [
    "df1 = pd.read_csv('../data/Jedı07_match_history/matches/match_NA1_4034399637/ml_data.csv',delimiter=',')\n",
    "df2 = pd.read_csv('../data/Jedı07_match_history/matches/match_NA1_4034434056/ml_data.csv',delimiter=',')\n",
    "champion_data = None\n",
    "\n",
    "with open('../champion_data/champion.json','r',encoding='utf-8') as f :\n",
    "    champions = json.load(f)\n",
    "\n",
    "\n",
    "df = pd.DataFrame()\n",
    "\n",
    "def add(old,new_df) :\n",
    "    appended_df = pd.concat([old,new_df],ignore_index=True)\n",
    "    return appended_df\n",
    "\n",
    "def champ_name_replacer(champ_name) :\n",
    "    champ_data = champions['data']\n",
    "    return champ_data[champ_name]['tags'][0]\n",
    "\n",
    "df = add(df,df1)\n",
    "df = add(df,df2)\n",
    "\n",
    "print('BEFORE TAG REPLACEMENT: \\n',df[['dmg_carry_0','dmg_carry_1']],'\\n')\n",
    "\n",
    "columns = list(df.columns)\n",
    "champ_name_columns = [c for c in columns if c.startswith('team_comp') or c.startswith('dmg_carry') or c.startswith('obj_carry')]\n",
    "\n",
    "\n",
    "for c in champ_name_columns :\n",
    "    df[c] = df[c].apply(lambda x : champ_name_replacer(x))\n",
    "\n",
    "\n",
    "print('AFTER TAG REPLACEMENT: \\n',df[['dmg_carry_0','dmg_carry_1']],'\\n')\n",
    "\n",
    "\n",
    "unique_champ_tags = df[champ_name_columns].stack().unique()\n",
    "dummy_dict = {}\n",
    "for k in champ_name_columns :\n",
    "    dummy_dict[k] = unique_champ_tags.copy()\n",
    "dummy_df = pd.DataFrame(dummy_dict)\n",
    "extra_rows = dummy_df.shape[0]\n",
    "\n",
    "df = add(df,dummy_df)\n",
    "print(df.loc[:1,champ_name_columns].values)\n",
    "\n",
    "x = df[champ_name_columns]\n",
    "ohe = OneHotEncoder()\n",
    "x = ohe.fit_transform(x).toarray()\n",
    "\n",
    "\n",
    "total_size = len(x)\n",
    "x = x[:total_size-extra_rows]\n",
    "\n",
    "print(x)\n",
    "\n",
    "\n",
    "\n"
   ]
  },
  {
   "cell_type": "code",
   "execution_count": 175,
   "metadata": {},
   "outputs": [],
   "source": [
    "### call labelencoder.fit and transform for x_train unique champs and call labelencoder.transform for x_test to avoid data leakage"
   ]
  }
 ],
 "metadata": {
  "kernelspec": {
   "display_name": "Python 3.10.4 ('honours')",
   "language": "python",
   "name": "python3"
  },
  "language_info": {
   "codemirror_mode": {
    "name": "ipython",
    "version": 3
   },
   "file_extension": ".py",
   "mimetype": "text/x-python",
   "name": "python",
   "nbconvert_exporter": "python",
   "pygments_lexer": "ipython3",
   "version": "3.10.4"
  },
  "orig_nbformat": 4,
  "vscode": {
   "interpreter": {
    "hash": "b7b7b3ece1175e03f6d4ad1d6f449bb296e00ba8bb500d8c0af43823720e462e"
   }
  }
 },
 "nbformat": 4,
 "nbformat_minor": 2
}
