{
 "cells": [
  {
   "cell_type": "markdown",
   "metadata": {},
   "source": [
    "## Imports"
   ]
  },
  {
   "cell_type": "code",
   "execution_count": 2,
   "metadata": {},
   "outputs": [],
   "source": [
    "# Pandas, numpy, matplotlib and seaborn\n",
    "import pandas as pd\n",
    "import numpy as np\n",
    "import matplotlib.pyplot as plt\n",
    "import seaborn as sns\n",
    "\n",
    "# RiotWatcher\n",
    "from riotwatcher import LolWatcher, ApiError\n",
    "\n",
    "# OS tools\n",
    "import os\n",
    "import shutil\n",
    "import json"
   ]
  },
  {
   "cell_type": "markdown",
   "metadata": {},
   "source": [
    "## Global Variables"
   ]
  },
  {
   "cell_type": "code",
   "execution_count": 3,
   "metadata": {},
   "outputs": [],
   "source": [
    "# Global Variables\n",
    "\n",
    "# Key to gain access to Riot API's data\n",
    "api_key = 'RGAPI-ce96fa0a-1514-4d69-945b-b859b1628b49'\n",
    "\n",
    "# Instance of the wrapper API 'RiotWatcher'\n",
    "watcher = LolWatcher(api_key)\n",
    "\n",
    "# Region of the player\n",
    "region = 'na1'\n",
    "\n",
    "# Name of the player's account\n",
    "account_name = 'Jedı07'\n",
    "\n",
    "# PUUID linked to the player's account\n",
    "puuid = None"
   ]
  },
  {
   "cell_type": "markdown",
   "metadata": {},
   "source": [
    "## Get an Account"
   ]
  },
  {
   "cell_type": "code",
   "execution_count": 4,
   "metadata": {},
   "outputs": [],
   "source": [
    "# Get account\n",
    "account = watcher.summoner.by_name(region, account_name)\n",
    "\n",
    "# Save puuid\n",
    "puuid = account['puuid']\n",
    "\n",
    "#print(account)"
   ]
  },
  {
   "cell_type": "markdown",
   "metadata": {},
   "source": [
    "## Get Match History"
   ]
  },
  {
   "cell_type": "code",
   "execution_count": 5,
   "metadata": {},
   "outputs": [
    {
     "name": "stdout",
     "output_type": "stream",
     "text": [
      "['NA1_4276627830', 'NA1_4276630734', 'NA1_4271399837', 'NA1_4271341235', 'NA1_4271285171', 'NA1_4200069215', 'NA1_4200057973', 'NA1_4200023211', 'NA1_4195249549', 'NA1_4195296421', 'NA1_4192896758', 'NA1_4192828915', 'NA1_4192861697', 'NA1_4192737361', 'NA1_4191628052', 'NA1_4190571787', 'NA1_4190503402', 'NA1_4190491622', 'NA1_4183313170', 'NA1_4183208690', 'NA1_4183220508', 'NA1_4181962985', 'NA1_4181858654', 'NA1_4178015004', 'NA1_4177827642', 'NA1_4176610684', 'NA1_4176591844', 'NA1_4176486747', 'NA1_4175591432', 'NA1_4175571307', 'NA1_4174230478', 'NA1_4174137022', 'NA1_4172646223', 'NA1_4172587470', 'NA1_4171197980', 'NA1_4171203080', 'NA1_4169900567', 'NA1_4169821877', 'NA1_4169772592', 'NA1_4102698720', 'NA1_4102683102', 'NA1_4102635137', 'NA1_4100010194', 'NA1_4099965698', 'NA1_4099991612', 'NA1_4099917364', 'NA1_4099933969', 'NA1_4091819791', 'NA1_4091752285', 'NA1_4090225331', 'NA1_4090232653', 'NA1_4048993419', 'NA1_4048908141', 'NA1_4048932745', 'NA1_4048887179', 'NA1_4048834064', 'NA1_4046823416', 'NA1_4046759373', 'NA1_4046736031', 'NA1_4046762862', 'NA1_4046760092', 'NA1_4046278976', 'NA1_4046254559', 'NA1_4046219526', 'NA1_4046185977', 'NA1_4046199894', 'NA1_4045404308', 'NA1_4045378025', 'NA1_4045324139', 'NA1_4044372209', 'NA1_4044327686', 'NA1_4043511305', 'NA1_4043492856', 'NA1_4043409603', 'NA1_4043394477', 'NA1_4042821122', 'NA1_4042786150', 'NA1_4042729404', 'NA1_4042704237', 'NA1_4042619250', 'NA1_4042652430', 'NA1_4042548902', 'NA1_4041518843', 'NA1_4041474160', 'NA1_4040732931', 'NA1_4040675906', 'NA1_4036628676', 'NA1_4036642224', 'NA1_4036513945', 'NA1_4035778189', 'NA1_4035782528', 'NA1_4035726944', 'NA1_4035682704', 'NA1_4035638217', 'NA1_4034707995', 'NA1_4034674255', 'NA1_4034559422', 'NA1_4034566213', 'NA1_4034399637', 'NA1_4034434056']\n"
     ]
    }
   ],
   "source": [
    "# Get match history data\n",
    "# Note: max count=100\n",
    "match_history = watcher.match.matchlist_by_puuid(region, puuid, queue=420, count=100)\n",
    "\n",
    "print(match_history)"
   ]
  },
  {
   "cell_type": "markdown",
   "metadata": {},
   "source": [
    "## Get Data of a Specific Match"
   ]
  },
  {
   "cell_type": "code",
   "execution_count": 6,
   "metadata": {},
   "outputs": [],
   "source": [
    "# ID of the match as per the previous cell's match ID list\n",
    "match_id = match_history[0]\n",
    "\n",
    "# Get the match's data\n",
    "match_data = watcher.match.by_id(region, match_id)\n",
    "\n",
    "#print(f\"\\n\\n{match_data}\")"
   ]
  },
  {
   "cell_type": "markdown",
   "metadata": {},
   "source": [
    "## Get Timeline of the Match"
   ]
  },
  {
   "cell_type": "code",
   "execution_count": 7,
   "metadata": {},
   "outputs": [],
   "source": [
    "# Get timeline of the match specific in the previous cell\n",
    "match_timeline = watcher.match.timeline_by_match(region, match_id)\n",
    "\n",
    "#print(match_timeline)"
   ]
  },
  {
   "cell_type": "markdown",
   "metadata": {},
   "source": [
    "## Create Directories to Store Match History"
   ]
  },
  {
   "cell_type": "code",
   "execution_count": 11,
   "metadata": {},
   "outputs": [],
   "source": [
    "# Directory of this player's match data\n",
    "general_dir = '../../data/' + account_name + '_match_history'\n",
    "\n",
    "# Create general directory\n",
    "if os.path.exists(general_dir):\n",
    "    shutil.rmtree(general_dir)\n",
    "os.mkdir(general_dir)\n",
    "\n",
    "# Save match history as json\n",
    "match_history_file_path = general_dir + '/' + account_name + '_match_history.json'\n",
    "match_history_json_string = json.dumps(match_history, indent=2)\n",
    "match_history_json_file = open(match_history_file_path, 'w')\n",
    "match_history_json_file.write(match_history_json_string)\n",
    "match_history_json_file.close()"
   ]
  },
  {
   "cell_type": "markdown",
   "metadata": {},
   "source": [
    "## Create Directories and Store Individual Match Data"
   ]
  },
  {
   "cell_type": "code",
   "execution_count": 12,
   "metadata": {},
   "outputs": [],
   "source": [
    "# Directory of this player's match data\n",
    "matches_dir = general_dir + '/matches'\n",
    "\n",
    "# Create matches directory\n",
    "if os.path.exists(matches_dir):\n",
    "    shutil.rmtree(matches_dir)\n",
    "os.mkdir(matches_dir)\n",
    "\n",
    "# Create directories for every match in the match history\n",
    "directory_name = 'match_'\n",
    "\n",
    "for match in match_history:\n",
    "\n",
    "    # Create directory for specific match\n",
    "    new_directory_name = directory_name + match\n",
    "    \n",
    "    match_dir = matches_dir + '/' + new_directory_name\n",
    "\n",
    "    if os.path.exists(match_dir):\n",
    "        shutil.rmtree(match_dir)\n",
    "    os.mkdir(match_dir)\n",
    "\n",
    "    # Get match data\n",
    "    match_data = watcher.match.by_id(region, match)\n",
    "    match_file_path = match_dir + '/' + match + '.json'\n",
    "\n",
    "    # Save match data\n",
    "    match_data_json_string = json.dumps(match_data, indent=2)\n",
    "    match_data_json_file = open(match_file_path, 'w')\n",
    "    match_data_json_file.write(match_data_json_string)\n",
    "    match_data_json_file.close()\n",
    "    "
   ]
  }
 ],
 "metadata": {
  "kernelspec": {
   "display_name": "Python 3.10.4 ('honours')",
   "language": "python",
   "name": "python3"
  },
  "language_info": {
   "codemirror_mode": {
    "name": "ipython",
    "version": 3
   },
   "file_extension": ".py",
   "mimetype": "text/x-python",
   "name": "python",
   "nbconvert_exporter": "python",
   "pygments_lexer": "ipython3",
   "version": "3.10.4"
  },
  "orig_nbformat": 4,
  "vscode": {
   "interpreter": {
    "hash": "b7b7b3ece1175e03f6d4ad1d6f449bb296e00ba8bb500d8c0af43823720e462e"
   }
  }
 },
 "nbformat": 4,
 "nbformat_minor": 2
}
