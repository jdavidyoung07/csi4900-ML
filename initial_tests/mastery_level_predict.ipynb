{
 "cells": [
  {
   "cell_type": "code",
   "execution_count": 1,
   "metadata": {},
   "outputs": [],
   "source": [
    "# Pandas and others\n",
    "import pandas as pd\n",
    "import numpy as np\n",
    "import matplotlib.pyplot as plt\n",
    "import seaborn as sns\n",
    "\n",
    "# RiotWatcher\n",
    "from riotwatcher import LolWatcher, ApiError\n"
   ]
  },
  {
   "cell_type": "markdown",
   "metadata": {},
   "source": [
    "## Global Variables"
   ]
  },
  {
   "cell_type": "code",
   "execution_count": 2,
   "metadata": {},
   "outputs": [],
   "source": [
    "# Global Variables\n",
    "api_key = 'RGAPI-752ee00d-bca4-4a38-8c51-87aa5e500372'\n",
    "watcher = LolWatcher(api_key)\n",
    "region = 'na1'\n",
    "account_name = 'Jedı07'"
   ]
  },
  {
   "cell_type": "markdown",
   "metadata": {},
   "source": [
    "## Champion Dictionary"
   ]
  },
  {
   "cell_type": "code",
   "execution_count": 3,
   "metadata": {},
   "outputs": [],
   "source": [
    "# Champion dictionary\n",
    "latest_champ_version = watcher.data_dragon.versions_for_region(region)['n']['champion']\n",
    "\n",
    "static_champ_list = watcher.data_dragon.champions(version=latest_champ_version, full=False, locale='en_US')\n",
    "\n",
    "# Create dictionary\n",
    "champ_dict = {}\n",
    "\n",
    "# Populate dictionary\n",
    "for i in static_champ_list['data']:\n",
    "    current_champ = static_champ_list['data'][i]\n",
    "    champ_dict[current_champ['key']] = current_champ['id']\n",
    "\n",
    "#print(champ_dict)"
   ]
  },
  {
   "cell_type": "markdown",
   "metadata": {},
   "source": [
    "## Account"
   ]
  },
  {
   "cell_type": "code",
   "execution_count": 4,
   "metadata": {},
   "outputs": [],
   "source": [
    "account = watcher.summoner.by_name(region, account_name)"
   ]
  },
  {
   "cell_type": "markdown",
   "metadata": {},
   "source": [
    "## Get Mastery Data"
   ]
  },
  {
   "cell_type": "code",
   "execution_count": 5,
   "metadata": {},
   "outputs": [
    {
     "name": "stdout",
     "output_type": "stream",
     "text": [
      "     championPoints  championPointsSinceLastLevel  championLevel\n",
      "0            312093                        290493              7\n",
      "1            127036                        105436              7\n",
      "2            124039                        102439              7\n",
      "3             80671                         59071              7\n",
      "4             73000                         51400              6\n",
      "..              ...                           ...            ...\n",
      "128             157                           157              1\n",
      "129             139                           139              1\n",
      "130             122                           122              1\n",
      "131             105                           105              1\n",
      "132              90                            90              1\n",
      "\n",
      "[133 rows x 3 columns]\n",
      "     championId\n",
      "0           103\n",
      "1           112\n",
      "2            61\n",
      "3            25\n",
      "4           131\n",
      "..          ...\n",
      "128         420\n",
      "129         421\n",
      "130         154\n",
      "131         126\n",
      "132         711\n",
      "\n",
      "[133 rows x 1 columns]\n"
     ]
    }
   ],
   "source": [
    "mastery_data = watcher.champion_mastery.by_summoner(region, account['id'])\n",
    "\n",
    "# Convert to dataframe\n",
    "df = pd.DataFrame(mastery_data)\n",
    "\n",
    "# Keep specific columns only\n",
    "clean_data = df[['championPoints', 'championPointsSinceLastLevel', 'championLevel']]\n",
    "\n",
    "print(clean_data)\n",
    "\n",
    "# List of champion id's\n",
    "champ_ids = df[['championId']]\n",
    "\n",
    "print(champ_ids)"
   ]
  },
  {
   "cell_type": "markdown",
   "metadata": {},
   "source": [
    "## Names of champions per ID"
   ]
  },
  {
   "cell_type": "code",
   "execution_count": 6,
   "metadata": {},
   "outputs": [
    {
     "name": "stdout",
     "output_type": "stream",
     "text": [
      "     championId championName\n",
      "0           103         Ahri\n",
      "1           112       Viktor\n",
      "2            61      Orianna\n",
      "3            25      Morgana\n",
      "4           131        Diana\n",
      "..          ...          ...\n",
      "128         420       Illaoi\n",
      "129         421       RekSai\n",
      "130         154          Zac\n",
      "131         126        Jayce\n",
      "132         711          Vex\n",
      "\n",
      "[133 rows x 2 columns]\n"
     ]
    }
   ],
   "source": [
    "champ_names = []\n",
    "\n",
    "for champ in champ_ids['championId']:\n",
    "    champ_name = champ_dict[str(champ)]\n",
    "    champ_names.append(champ_name)\n",
    "\n",
    "# Append champ names to their id's\n",
    "champ_ids.insert(1, 'championName', champ_names)\n",
    "\n",
    "print(champ_ids)"
   ]
  },
  {
   "cell_type": "markdown",
   "metadata": {},
   "source": [
    "## Prepare for training"
   ]
  }
 ],
 "metadata": {
  "interpreter": {
   "hash": "8f73e7c26fca60dc1a24caa1b0e18cae5a18d7b188843bca7c9bdb18f65e145e"
  },
  "kernelspec": {
   "display_name": "Python 3.8.13 ('rito')",
   "language": "python",
   "name": "python3"
  },
  "language_info": {
   "codemirror_mode": {
    "name": "ipython",
    "version": 3
   },
   "file_extension": ".py",
   "mimetype": "text/x-python",
   "name": "python",
   "nbconvert_exporter": "python",
   "pygments_lexer": "ipython3",
   "version": "3.8.13"
  },
  "orig_nbformat": 4
 },
 "nbformat": 4,
 "nbformat_minor": 2
}
