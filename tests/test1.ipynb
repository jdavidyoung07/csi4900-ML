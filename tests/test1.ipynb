{
 "cells": [
  {
   "cell_type": "code",
   "execution_count": 1,
   "metadata": {},
   "outputs": [],
   "source": [
    "# Pandas\n",
    "import pandas as pd\n",
    "import numpy as np\n",
    "import matplotlib.pyplot as plt\n",
    "import seaborn as sns\n",
    "\n",
    "# RiotWatcher\n",
    "from riotwatcher import LolWatcher, ApiError\n",
    "\n",
    "# Cassiopeia\n",
    "import cassiopeia as cass"
   ]
  },
  {
   "cell_type": "code",
   "execution_count": 5,
   "metadata": {},
   "outputs": [],
   "source": [
    "# Global Variables\n",
    "api_key = 'RGAPI-752ee00d-bca4-4a38-8c51-87aa5e500372'\n",
    "watcher = LolWatcher(api_key)\n",
    "region = 'na1'"
   ]
  },
  {
   "cell_type": "code",
   "execution_count": 6,
   "metadata": {},
   "outputs": [
    {
     "name": "stdout",
     "output_type": "stream",
     "text": [
      "{'266': 'Aatrox', '103': 'Ahri', '84': 'Akali', '166': 'Akshan', '12': 'Alistar', '32': 'Amumu', '34': 'Anivia', '1': 'Annie', '523': 'Aphelios', '22': 'Ashe', '136': 'AurelionSol', '268': 'Azir', '432': 'Bard', '53': 'Blitzcrank', '63': 'Brand', '201': 'Braum', '51': 'Caitlyn', '164': 'Camille', '69': 'Cassiopeia', '31': 'Chogath', '42': 'Corki', '122': 'Darius', '131': 'Diana', '119': 'Draven', '36': 'DrMundo', '245': 'Ekko', '60': 'Elise', '28': 'Evelynn', '81': 'Ezreal', '9': 'Fiddlesticks', '114': 'Fiora', '105': 'Fizz', '3': 'Galio', '41': 'Gangplank', '86': 'Garen', '150': 'Gnar', '79': 'Gragas', '104': 'Graves', '887': 'Gwen', '120': 'Hecarim', '74': 'Heimerdinger', '420': 'Illaoi', '39': 'Irelia', '427': 'Ivern', '40': 'Janna', '59': 'JarvanIV', '24': 'Jax', '126': 'Jayce', '202': 'Jhin', '222': 'Jinx', '145': 'Kaisa', '429': 'Kalista', '43': 'Karma', '30': 'Karthus', '38': 'Kassadin', '55': 'Katarina', '10': 'Kayle', '141': 'Kayn', '85': 'Kennen', '121': 'Khazix', '203': 'Kindred', '240': 'Kled', '96': 'KogMaw', '7': 'Leblanc', '64': 'LeeSin', '89': 'Leona', '876': 'Lillia', '127': 'Lissandra', '236': 'Lucian', '117': 'Lulu', '99': 'Lux', '54': 'Malphite', '90': 'Malzahar', '57': 'Maokai', '11': 'MasterYi', '21': 'MissFortune', '62': 'MonkeyKing', '82': 'Mordekaiser', '25': 'Morgana', '267': 'Nami', '75': 'Nasus', '111': 'Nautilus', '518': 'Neeko', '76': 'Nidalee', '56': 'Nocturne', '20': 'Nunu', '2': 'Olaf', '61': 'Orianna', '516': 'Ornn', '80': 'Pantheon', '78': 'Poppy', '555': 'Pyke', '246': 'Qiyana', '133': 'Quinn', '497': 'Rakan', '33': 'Rammus', '421': 'RekSai', '526': 'Rell', '888': 'Renata', '58': 'Renekton', '107': 'Rengar', '92': 'Riven', '68': 'Rumble', '13': 'Ryze', '360': 'Samira', '113': 'Sejuani', '235': 'Senna', '147': 'Seraphine', '875': 'Sett', '35': 'Shaco', '98': 'Shen', '102': 'Shyvana', '27': 'Singed', '14': 'Sion', '15': 'Sivir', '72': 'Skarner', '37': 'Sona', '16': 'Soraka', '50': 'Swain', '517': 'Sylas', '134': 'Syndra', '223': 'TahmKench', '163': 'Taliyah', '91': 'Talon', '44': 'Taric', '17': 'Teemo', '412': 'Thresh', '18': 'Tristana', '48': 'Trundle', '23': 'Tryndamere', '4': 'TwistedFate', '29': 'Twitch', '77': 'Udyr', '6': 'Urgot', '110': 'Varus', '67': 'Vayne', '45': 'Veigar', '161': 'Velkoz', '711': 'Vex', '254': 'Vi', '234': 'Viego', '112': 'Viktor', '8': 'Vladimir', '106': 'Volibear', '19': 'Warwick', '498': 'Xayah', '101': 'Xerath', '5': 'XinZhao', '157': 'Yasuo', '777': 'Yone', '83': 'Yorick', '350': 'Yuumi', '154': 'Zac', '238': 'Zed', '221': 'Zeri', '115': 'Ziggs', '26': 'Zilean', '142': 'Zoe', '143': 'Zyra'}\n"
     ]
    }
   ],
   "source": [
    "# Champion dictionary\n",
    "latest_champ_version = watcher.data_dragon.versions_for_region(region)['n']['champion']\n",
    "\n",
    "static_champ_list = watcher.data_dragon.champions(version=latest_champ_version, full=False, locale='en_US')\n",
    "\n",
    "# Create dictionary\n",
    "champ_dict = {}\n",
    "\n",
    "# Populate dictionary\n",
    "for i in static_champ_list['data']:\n",
    "    current_champ = static_champ_list['data'][i]\n",
    "    champ_dict[current_champ['key']] = current_champ['id']\n",
    "\n",
    "print(champ_dict)"
   ]
  },
  {
   "cell_type": "code",
   "execution_count": 7,
   "metadata": {},
   "outputs": [
    {
     "name": "stdout",
     "output_type": "stream",
     "text": [
      "{'id': 'aEifhkhWbrULdXrAMeujh2QWBJYUI6SiFfvYv0-45czGlSY', 'accountId': 'pIK8pwc2yN_1aG2EzAnyf1LWIZ0DRtIMSS9fgsbRkYk-FV8', 'puuid': 'Xe6zTTwF0SriSHnDNTCRhfaabQlfod6158R135BCqD8IYT55sC96AuLbPswRdLAb4Oh0MvkshQoQdg', 'name': 'Jedı07', 'profileIconId': 5147, 'revisionDate': 1651631416000, 'summonerLevel': 177}\n"
     ]
    }
   ],
   "source": [
    "# Get my account\n",
    "account = watcher.summoner.by_name(region, 'Jedı07')\n",
    "print(account)"
   ]
  },
  {
   "cell_type": "code",
   "execution_count": 8,
   "metadata": {},
   "outputs": [
    {
     "name": "stdout",
     "output_type": "stream",
     "text": [
      "[{'leagueId': '705380b9-1023-4a57-94fd-e660ec0c96aa', 'queueType': 'RANKED_SOLO_5x5', 'tier': 'SILVER', 'rank': 'I', 'summonerId': 'aEifhkhWbrULdXrAMeujh2QWBJYUI6SiFfvYv0-45czGlSY', 'summonerName': 'Jedı07', 'leaguePoints': 4, 'wins': 20, 'losses': 19, 'veteran': False, 'inactive': False, 'freshBlood': False, 'hotStreak': False}, {'queueType': 'RANKED_TFT_PAIRS', 'summonerId': 'aEifhkhWbrULdXrAMeujh2QWBJYUI6SiFfvYv0-45czGlSY', 'summonerName': 'Jedı07', 'leaguePoints': 0, 'wins': 16, 'losses': 83, 'veteran': False, 'inactive': False, 'freshBlood': False, 'hotStreak': False}]\n"
     ]
    }
   ],
   "source": [
    "# Ranked stats\n",
    "ranked_stats = watcher.league.by_summoner(region, account['id'])\n",
    "print(ranked_stats)"
   ]
  },
  {
   "cell_type": "code",
   "execution_count": 9,
   "metadata": {},
   "outputs": [
    {
     "name": "stdout",
     "output_type": "stream",
     "text": [
      "['Ahri', 'Viktor', 'Orianna', 'Morgana', 'Braum', 'Thresh']\n",
      "[312093, 127036, 124039, 80671, 72209, 59508]\n",
      "{'Ahri': 312093, 'Viktor': 127036, 'Orianna': 124039, 'Morgana': 80671, 'Braum': 72209, 'Thresh': 59508}\n",
      "     Ahri  Viktor  Orianna  Morgana  Braum  Thresh\n",
      "0  312093  127036   124039    80671  72209   59508\n"
     ]
    }
   ],
   "source": [
    "# Get champion masteries of summoner\n",
    "mastery = watcher.champion_mastery.by_summoner(region, account['id'])\n",
    "\n",
    "# Convert to dataframe\n",
    "df = pd.DataFrame(mastery)\n",
    "\n",
    "# Get champs with level 7 mastery\n",
    "level_7_mastery = df.loc[df['championLevel']==7]\n",
    "level_7_mastery = level_7_mastery.reset_index(drop=True)\n",
    "\n",
    "# Get list of champ names\n",
    "champ_names = []\n",
    "\n",
    "for champ in level_7_mastery['championId']:\n",
    "    champ_name = champ_dict[str(champ)]\n",
    "    champ_names.append(champ_name)\n",
    "\n",
    "print(champ_names)\n",
    "\n",
    "# Get list of champ mastery points\n",
    "champ_points = []\n",
    "\n",
    "for i in range(len(level_7_mastery)):\n",
    "    champ_points.append(level_7_mastery['championPoints'][i])\n",
    "\n",
    "print(champ_points)\n",
    "\n",
    "# Convert to dictionary\n",
    "mastery_dict = {}\n",
    "\n",
    "for i in range(len(champ_names)):\n",
    "    mastery_dict[champ_names[i]] = champ_points[i]\n",
    "\n",
    "print(mastery_dict)\n",
    "\n",
    "# Data in a dataframe\n",
    "mastery_data = pd.DataFrame([champ_points], columns=champ_names)\n",
    "print(mastery_data)"
   ]
  },
  {
   "cell_type": "code",
   "execution_count": 10,
   "metadata": {},
   "outputs": [
    {
     "data": {
      "text/plain": [
       "<AxesSubplot:title={'center':'Level 7 Mastery Champions'}, xlabel='Champions', ylabel='Mastery Points'>"
      ]
     },
     "execution_count": 10,
     "metadata": {},
     "output_type": "execute_result"
    },
    {
     "data": {
      "image/png": "[encoded data removed]",
      "text/plain": [
       "<Figure size 720x576 with 1 Axes>"
      ]
     },
     "metadata": {},
     "output_type": "display_data"
    }
   ],
   "source": [
    "sns.set(style='darkgrid')\n",
    "\n",
    "plt.figure(figsize=(10, 8))\n",
    "plt.title(\"Level 7 Mastery Champions\")\n",
    "plt.xlabel(\"Champions\")\n",
    "plt.ylabel(\"Mastery Points\")\n",
    "\n",
    "sns.barplot(\n",
    "    x=champ_names,\n",
    "    y=champ_points,\n",
    ")"
   ]
  }
 ],
 "metadata": {
  "interpreter": {
   "hash": "8f73e7c26fca60dc1a24caa1b0e18cae5a18d7b188843bca7c9bdb18f65e145e"
  },
  "kernelspec": {
   "display_name": "Python 3.8.13 ('rito')",
   "language": "python",
   "name": "python3"
  },
  "language_info": {
   "codemirror_mode": {
    "name": "ipython",
    "version": 3
   },
   "file_extension": ".py",
   "mimetype": "text/x-python",
   "name": "python",
   "nbconvert_exporter": "python",
   "pygments_lexer": "ipython3",
   "version": "3.8.13"
  },
  "orig_nbformat": 4
 },
 "nbformat": 4,
 "nbformat_minor": 2
}
